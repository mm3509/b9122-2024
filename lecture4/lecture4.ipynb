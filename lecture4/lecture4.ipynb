{
 "cells": [
  {
   "cell_type": "markdown",
   "id": "814d956e-9a41-4ecf-a730-291084dd3420",
   "metadata": {},
   "source": [
    "# Catch-up\n",
    "\n",
    "## List comprehensions\n",
    "\n",
    "A list comprehension in one line instead of a for loop with 3 lines\n",
    "\n",
    "– faster to read / more readable\n",
    "\n",
    "– faster to write / more productive"
   ]
  },
  {
   "cell_type": "code",
   "execution_count": null,
   "id": "28ad47b9-53c2-41e3-b4ff-af5af30c2f31",
   "metadata": {},
   "outputs": [],
   "source": [
    "# List comprehension\n",
    "[chr(i) for i in range(97, 122)]\n",
    "\n",
    "# Equivalent for loop\n",
    "alphabet = []\n",
    "for i in range(97, 122):\n",
    "    alphabet.append(chr(i))"
   ]
  },
  {
   "cell_type": "markdown",
   "id": "5986d71d-ad31-484b-958c-cd7e0529b633",
   "metadata": {},
   "source": [
    "## View vs. copy"
   ]
  },
  {
   "cell_type": "code",
   "execution_count": null,
   "id": "c0a96297-0d60-4ad8-b1c9-2c9f248346d0",
   "metadata": {},
   "outputs": [],
   "source": [
    "a = [1, 2, 3]\n",
    "a\n",
    "\n",
    "b = a\n",
    "b[2] = 4       # What do you expect to happen to a?\n",
    "a\n",
    "\n",
    "a = [1, 2, 3]\n",
    "c = a.copy()\n",
    "c[2] = 4       # What do you expect to happen to a?\n",
    "a"
   ]
  },
  {
   "cell_type": "markdown",
   "id": "e73545be-84e9-4ad9-9272-bc91534c7737",
   "metadata": {},
   "source": [
    "Complex objects are a “pointer” to a memory address containing the “values”\n",
    "\n",
    "By default, an assignment `a = b` is a “view”, not a “copy”\n",
    "\n",
    "You have to be careful which you're using (you may even need `deepcopy`)"
   ]
  },
  {
   "cell_type": "markdown",
   "id": "0443cabe-7f73-4db3-8928-d62aac3d3b1b",
   "metadata": {},
   "source": [
    "## Value vs. reference"
   ]
  },
  {
   "cell_type": "code",
   "execution_count": null,
   "id": "685fb7d1-c70f-4941-a0a5-fef895f230a6",
   "metadata": {},
   "outputs": [],
   "source": [
    "a = [1, 2]\n",
    "b = [1, 2]\n",
    "a is b      # What do you expect?\n",
    "a == b      # What do you expect?\n",
    "\n",
    "\n",
    "a = 42\n",
    "b = 42\n",
    "a is b      # What do you expect?\n",
    "a == b      # What do you expect?\n",
    "\n",
    "a = 257\n",
    "b = 257\n",
    "a is b      # What do you expect?\n",
    "a == b      # What do you expect?\n",
    "\n",
    "            # Advanced: find the maximum integer that,\n",
    "            # like 42, fits the first case (a is b is True)\n",
    "\n",
    "\t\t\t# Advanced: find the smallest such integer."
   ]
  },
  {
   "cell_type": "markdown",
   "id": "42bec605-63d7-412f-b1c6-222f9870cb2e",
   "metadata": {},
   "source": [
    "• A variable is a pointer to a memory address (reference)\n",
    "\n",
    "• A value is the content of that memory address\n",
    "\n",
    "• `is` compares references / memory addresses (very fast)\n",
    "\n",
    "• `==` compares values / contents (can be slow)\n",
    "\n",
    "• For speed, Python only has one integer between -5 and 256:\n",
    "\n",
    "– “The current implementation keeps an array of integer objects for all integers between -5 and 256. When you create an int in that range you actually just get back a reference to the existing object.” [ref](https://docs.python.org/3/c-api/long.html#c.PyLong_FromLong)\n",
    "\n",
    "– same with `None`: there's only one, so you can write `a is None`\n",
    "\n",
    "• It will become clearer in C, where it is explicit"
   ]
  }
 ],
 "metadata": {
  "kernelspec": {
   "display_name": "Python 3 (ipykernel)",
   "language": "python",
   "name": "python3"
  },
  "language_info": {
   "codemirror_mode": {
    "name": "ipython",
    "version": 3
   },
   "file_extension": ".py",
   "mimetype": "text/x-python",
   "name": "python",
   "nbconvert_exporter": "python",
   "pygments_lexer": "ipython3",
   "version": "3.12.7"
  }
 },
 "nbformat": 4,
 "nbformat_minor": 5
}
