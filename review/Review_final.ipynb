{
  "nbformat": 4,
  "nbformat_minor": 0,
  "metadata": {
    "colab": {
      "provenance": []
    },
    "kernelspec": {
      "name": "python3",
      "display_name": "Python 3"
    },
    "language_info": {
      "name": "python"
    }
  },
  "cells": [
    {
      "cell_type": "markdown",
      "source": [
        "# Review of Python for the final\n",
        "\n",
        "This notebook summarizes what I expect you to know about Python to be ready for the final (in addition to the midterm, which you'll find in a separate notebook). Read each piece of cell of text, read each cell of code, anticipate what it is going to do, execute it, and confirm your understanding."
      ],
      "metadata": {
        "id": "EYjLOYTBhpuS"
      }
    },
    {
      "cell_type": "markdown",
      "source": [
        "# Basic Python\n"
      ],
      "metadata": {
        "id": "m78N1AW0yR0-"
      }
    },
    {
      "cell_type": "markdown",
      "source": [
        "## Functions\n",
        "\n",
        "Functions in Python are similar to functions in math: they take inputs, called arguments, and return outputs.\n",
        "\n",
        "Functions start with the special keyword `def` (\"special keyword\" means that you cannot use a variable called `def`), then the name of the function, then parentheses and an optional argument list. The function declaration end with a colon `:`, after which comes the block of the function with one level of indentation. When indentation decreases, the function is over.\n",
        "\n",
        "Here is a simple Python function similar to the square function in math."
      ],
      "metadata": {
        "id": "eb-PXEIQYoXY"
      }
    },
    {
      "cell_type": "code",
      "source": [
        "def square(x):\n",
        "    return x ** x"
      ],
      "metadata": {
        "id": "JECwG7geY1n0"
      },
      "execution_count": null,
      "outputs": []
    },
    {
      "cell_type": "markdown",
      "source": [
        "A function always returns a value. If you do not explicitly return a value, or if you use only `return`, then the value returned is `None`."
      ],
      "metadata": {
        "id": "xwL9srNrZa7N"
      }
    },
    {
      "cell_type": "code",
      "source": [
        "def append_to_list(x, a):\n",
        "    x.append(a)\n",
        "\n",
        "a = [1, 2, 3]\n",
        "b = append_to_list(a, 4)\n",
        "print(\"b is None: \", b is None)"
      ],
      "metadata": {
        "id": "6kbVpiPuZUZ2"
      },
      "execution_count": null,
      "outputs": []
    },
    {
      "cell_type": "markdown",
      "source": [
        "The arguments to this function are called \"positional arguments\": Python replaced the arguments with the values depending on their position.\n",
        "\n",
        "You may want to write a function where some arguments are implicit and have a default value. For example, this function converts a daily interest rate to an annual rate (assuming 250 trading days in the year):"
      ],
      "metadata": {
        "id": "O-4Dw69jaD_W"
      }
    },
    {
      "cell_type": "code",
      "source": [
        "def annualize(r):\n",
        "    return ((1 + r) ** 250) - 1"
      ],
      "metadata": {
        "id": "cIQsu0T9bGh4"
      },
      "execution_count": null,
      "outputs": []
    },
    {
      "cell_type": "markdown",
      "source": [
        "Now suppose you sometimes want to convert monthly interest rates as well. You could write another function, but that would not be DRY. Instead, you can rewrite this function, using an extra argument `from` and a default value of `daily` for it, as in this next cell. Your code that uses this function will still work as it assumes a daily interest rate, but now you can also write code with a monthly interest rate. (If you know Java or C++, this is the Python equivalent of \"function overloading\".)"
      ],
      "metadata": {
        "id": "pRm2IAN_bkmF"
      }
    },
    {
      "cell_type": "code",
      "source": [
        "def annualize(r, freq=\"daily\"):\n",
        "    period = 250\n",
        "    if freq == \"monthly\":\n",
        "        period = 12\n",
        "    elif freq != \"daily\":\n",
        "        raise ValueError(\"Frequency must be either daily or monthly\")\n",
        "\n",
        "    return ((1 + r) ** period) - 1"
      ],
      "metadata": {
        "id": "2BC5vXdbb9iY"
      },
      "execution_count": null,
      "outputs": []
    },
    {
      "cell_type": "markdown",
      "source": [
        "The argument `r` is called a \"positional argument\", because the only part that distinguishes it is its position. The argument `freq` is called a \"named argument\", because you call it via its name, for example to annualize a 1% monthly interest rate you would write:"
      ],
      "metadata": {
        "id": "Oaa3Y0oXcVY5"
      }
    },
    {
      "cell_type": "code",
      "source": [
        "annualize(0.01, freq=\"monthly\")"
      ],
      "metadata": {
        "id": "VZanoTd0cod6"
      },
      "execution_count": null,
      "outputs": []
    },
    {
      "cell_type": "markdown",
      "source": [
        "Default or named arguments are very common in Python. For example, in the `print()` function, you can use a the named argument `sep`, where the default is space, to print items on a line each. You can also modify the default value of 5 in the k-nearest neighbors algorithm to 8, for example.\n",
        "\n",
        "By default, in the Google Style Guide, there are no spaces around the `=` when you define or use a named argument."
      ],
      "metadata": {
        "id": "TINizZivnsiC"
      }
    },
    {
      "cell_type": "code",
      "source": [
        "print(\"One line\", \"Two lines\", \"Three lines\", sep=\"\\n\")\n",
        "\n",
        "import sklearn.neighbors\n",
        "knn8 = sklearn.neighbors.NearestNeighbors(n_neighbors=8)"
      ],
      "metadata": {
        "id": "fkoVG6iTn_tN"
      },
      "execution_count": null,
      "outputs": []
    },
    {
      "cell_type": "markdown",
      "source": [
        "## Modules\n",
        "\n",
        "A module is a set of code written by someon (possibly you) and that you can import and use.\n",
        "\n",
        "Sometimes module names in code are different from module names in language. For example, the module we used the most was SciKit-Learn, because it implements many of our data models, but the name in code is `sklearn`. Similarly, BeautifulSoup's name in code is `bs4`.\n",
        "\n",
        "Most of the modules we used already came with your installation of Anaconda. Other modules do not and you can install a module by running this in a shell: `pip install <module-name>`. For example, for BeautifulSoup, you can run: `pip install bs4`.\n",
        "\n",
        "On a Jupyter notebook, you can install modules from within Python with the syntax in this cell:"
      ],
      "metadata": {
        "id": "tMPsMgJqVWqa"
      }
    },
    {
      "cell_type": "code",
      "source": [
        "!pip install bs4"
      ],
      "metadata": {
        "id": "3odWU_4TWr1O"
      },
      "execution_count": null,
      "outputs": []
    },
    {
      "cell_type": "markdown",
      "source": [
        "A module can have submodules. For example, SciKit-Learn is a very big module, with neural networks, logistic regression, k-nearest neighbors, etc. If you imported all of SciKit-Learn each time, the sum of your code plus imported modules could be big, and hence slow. Therefore, programmers divided SciKit-Learn into sub-modules so you can import only the model you need and keep your code light and fast.\n",
        "\n",
        "For example, this code to import the linear model in SciKit-Learn will throw an error:"
      ],
      "metadata": {
        "id": "8VvbG__bW2_M"
      }
    },
    {
      "cell_type": "code",
      "source": [
        "import sklearn\n",
        "\n",
        "linear = sklearn.linear_model.LinearRegression()"
      ],
      "metadata": {
        "id": "uIVjXMKDXgt0"
      },
      "execution_count": null,
      "outputs": []
    },
    {
      "cell_type": "markdown",
      "source": [
        "Instead, you have to import the sub-module `linear_model`, and then the code works:"
      ],
      "metadata": {
        "id": "lanOkca0XmbD"
      }
    },
    {
      "cell_type": "code",
      "source": [
        "import sklearn.linear_model\n",
        "\n",
        "linear = sklearn.linear_model.LinearRegression()"
      ],
      "metadata": {
        "id": "GHbiMGjmXqyB"
      },
      "execution_count": null,
      "outputs": []
    },
    {
      "cell_type": "markdown",
      "source": [
        "You can \"alias\" a module in order to write code faster. An \"alias\" is a shortcut or a nickname for a module, similar to saying \"Bob\", which is shorter than \"Robert\".\n",
        "\n",
        "Two common aliases are `np` for `numpy` and `pd` for `pandas`, with this syntax:"
      ],
      "metadata": {
        "id": "uy8fVLCVXv9u"
      }
    },
    {
      "cell_type": "code",
      "source": [
        "import numpy as np\n",
        "import pandas as pd"
      ],
      "metadata": {
        "id": "V5Vg2IznYJf_"
      },
      "execution_count": null,
      "outputs": []
    },
    {
      "cell_type": "markdown",
      "source": [
        "Any file you write can be imported like a Python module. This helps keep your code DRY.\n",
        "\n",
        "If you write a file called `exercise1.py`, and then want to use function `compute()` from exercise 1 in another exercise in the same folder, this would be the syntax:\n",
        "\n",
        "``` python\n",
        "import exercise1\n",
        "\n",
        "exercise1.compute()\n",
        "```\n",
        "\n",
        "The calling file has to be in the same folder as `exercise1.py`. At our level, this is sufficient (otherwise, you have to change the Python PATH variable with `sys.path.append(\"/path/to/exercise1\")`, but this is bad code)."
      ],
      "metadata": {
        "id": "qdDRCdAqzoR0"
      }
    },
    {
      "cell_type": "markdown",
      "source": [
        "### Dunder variables\n",
        "\n",
        "Python files have \"dunder variables\", where \"dunder\" stands for \"double underscore\". We'll use two dunder variables: `__file__`, which has the location of the current Python file on disk if you run it locally (but not on Google Colab, where this throws an error), and `__name__`, which equals `\"__main__\"` if the file is run directly, and the name of the file if it's imported."
      ],
      "metadata": {
        "id": "ka7aUR_20nUw"
      }
    },
    {
      "cell_type": "code",
      "source": [
        "print(__name__)\n",
        "print(__file__)"
      ],
      "metadata": {
        "id": "fpiY1XLL0oar"
      },
      "execution_count": null,
      "outputs": []
    },
    {
      "cell_type": "markdown",
      "source": [
        "So we can use that dunder variable to ensure we only run a piece of code when the Python file is called directly, but not when it's imported:"
      ],
      "metadata": {
        "id": "QCxS6D4a1LPq"
      }
    },
    {
      "cell_type": "code",
      "source": [
        "if __name__ == \"__main__\":\n",
        "    print(\"This code is running only when the file is called directly\")\n",
        "else:\n",
        "    print(\"This code only runs when imported\")"
      ],
      "metadata": {
        "id": "7zQHgEdv1XJc"
      },
      "execution_count": null,
      "outputs": []
    },
    {
      "cell_type": "markdown",
      "source": [
        "## Getting help\n",
        "\n",
        "You can type `help(<object-name>)` inside Python, or run `pydoc <object-name>`. An object name can be a function, a module, or a module name with a period (.) and a sub-module, or an object, or a function.\n",
        "\n",
        "For example, run this inside Python to get help on the function `print`, the module `datetime`, or the model `sklearn.neighbors.NearestNeighbors` (which tells you the default value of neighbors is 5)."
      ],
      "metadata": {
        "id": "ie4BDwMX1uaZ"
      }
    },
    {
      "cell_type": "code",
      "source": [
        "print(help(print))\n",
        "\n",
        "import datetime\n",
        "print(help(datetime))\n",
        "\n",
        "print(help(sklearn.neighbors.NearestNeighbors))"
      ],
      "metadata": {
        "collapsed": true,
        "id": "O8Ns4lM32M8P"
      },
      "execution_count": null,
      "outputs": []
    },
    {
      "cell_type": "markdown",
      "source": [
        "## View vs. copy\n",
        "\n",
        "Some data structures can be complex, such as lists. When we assign a list `[1, 2, 3]` to a variable `a`, we're actually storing a \"pointer\" to the list. If we assign it to another variable `b`, we're not copying the whole list, but only a pointer to it. If we change `b`, we also change the original list stored in `a`. In this case, the variable is called a **\"view\"** of the list. Here is an example:"
      ],
      "metadata": {
        "id": "Fc8AGEl7YRCj"
      }
    },
    {
      "cell_type": "code",
      "source": [
        "a = [1, 2, 3]\n",
        "print(\"Original list:\", a)\n",
        "\n",
        "b = a\n",
        "b.append(4)  # this changes the list, pointed to by `a` and `b`\n",
        "\n",
        "print(\"Value of a:\", a)\n",
        "print(\"Value of b:\", b)"
      ],
      "metadata": {
        "id": "1wd2gOG4rPK5"
      },
      "execution_count": null,
      "outputs": []
    },
    {
      "cell_type": "markdown",
      "source": [
        "If we want the change in `b` not to affect `a`, we need to create a **\"copy\"** of the list:"
      ],
      "metadata": {
        "id": "k_qvA4S5ri31"
      }
    },
    {
      "cell_type": "code",
      "source": [
        "a = [1, 2, 3]\n",
        "print(\"original list:\", a)\n",
        "\n",
        "c = a.copy()\n",
        "c.append(4)\n",
        "print(\"Value of a:\", a)\n",
        "print(\"Value of c:\", c)"
      ],
      "metadata": {
        "id": "2fTzD4P9rtQi"
      },
      "execution_count": null,
      "outputs": []
    },
    {
      "cell_type": "markdown",
      "source": [
        "## Value versus reference\n",
        "\n",
        "A close concept to \"view vs. copy\" is \"value vs. reference.\" The operator `is` tests whether two variables point to the same **reference** in memory, and so it is very fast. The operator `==` tests whether two variables have the same **value**.\n",
        "\n",
        "The difference is apparent in numbers. For speed reasons, the Python language has only one reference for the integers between -5 and 256. So both of these tests return true because `a` and `b` have the value `42`, and there's only one `42` in Python:"
      ],
      "metadata": {
        "id": "64A-vZMfsLDq"
      }
    },
    {
      "cell_type": "code",
      "source": [
        "a = 42\n",
        "b = 42\n",
        "print(a is b)\n",
        "print(a == b)"
      ],
      "metadata": {
        "id": "Y_TBqTuFs38Y"
      },
      "execution_count": null,
      "outputs": []
    },
    {
      "cell_type": "markdown",
      "source": [
        "But when we try with `257`, then only one test returns true:"
      ],
      "metadata": {
        "id": "apL52as1s7Vs"
      }
    },
    {
      "cell_type": "code",
      "source": [
        "a = 257\n",
        "b = 257\n",
        "print(a is b)\n",
        "print(a == b)"
      ],
      "metadata": {
        "id": "w0giCfjjs-Z3"
      },
      "execution_count": null,
      "outputs": []
    },
    {
      "cell_type": "markdown",
      "source": [
        "The comparison `is` uses the reference of the variable, and `==` uses the value.\n",
        "\n",
        "Some functions work by \"in-place\": they take arguments by reference and modify them. Sorting a list is an example of a function working by reference, and it returns nothing (or `None`):"
      ],
      "metadata": {
        "id": "V4YrClMAtCRo"
      }
    },
    {
      "cell_type": "code",
      "source": [
        "a = [3, 2, 1]\n",
        "b = a.sort()\n",
        "print(\"a =\", a)\n",
        "print(\"b =\", b)"
      ],
      "metadata": {
        "id": "DxLHWXF5tqUs"
      },
      "execution_count": null,
      "outputs": []
    },
    {
      "cell_type": "markdown",
      "source": [
        "If we try the same thing on a string, which is immutable and cannot be changed, then we get an error:"
      ],
      "metadata": {
        "id": "N-tSLaEYt2C7"
      }
    },
    {
      "cell_type": "code",
      "source": [
        "a = \"bcda\"\n",
        "a.sort()"
      ],
      "metadata": {
        "id": "XZ8HTcG3t75J"
      },
      "execution_count": null,
      "outputs": []
    },
    {
      "cell_type": "markdown",
      "source": [
        "Instead, we can use the function `sorted()`, which works by value: it takes the value of argument, works with it, and returns a new value:"
      ],
      "metadata": {
        "id": "dak3mlA0t-jU"
      }
    },
    {
      "cell_type": "code",
      "source": [
        "a = \"abcd\"\n",
        "print(sorted(a))\n",
        "\n",
        "# To print this as a string, use `join()`, which joins a list into a string:\n",
        "print(\"\".join(sorted(a)))"
      ],
      "metadata": {
        "id": "TYx5rvIuuIqK"
      },
      "execution_count": null,
      "outputs": []
    },
    {
      "cell_type": "markdown",
      "source": [
        "## Doc-tests and test-driven development\n",
        "\n",
        "Doc-tests are executable documentation. They are very helpful in ensuring that functions always do what we expect of them, and that any changes to the function do not break previous code.\n",
        "\n",
        "In test-driven development, you write the tests first, then you write the function. In our case, you can do them in either order.\n",
        "\n",
        "Doc-tests are inside the doc-string (which is the first string after the function name), and are anything that starts with `>>> `. They always follow this pattern: code to execute after `>>> `, and the result expected in the next line. Here is an example that you should copy for your doc-tests:"
      ],
      "metadata": {
        "id": "8T_jyHrbup-S"
      }
    },
    {
      "cell_type": "code",
      "source": [
        "def compute_area(width, height):\n",
        "    \"\"\"\n",
        "    >>> compute_area(3, 2)\n",
        "    6\n",
        "    >>> compute_square(1.1, 2)\n",
        "    2.2\n",
        "    \"\"\"\n",
        "\n",
        "    return width * height"
      ],
      "metadata": {
        "id": "ptefjSq8vBD4"
      },
      "execution_count": null,
      "outputs": []
    },
    {
      "cell_type": "markdown",
      "source": [
        "## Defensive programming\n",
        "\n",
        "In defensive programming, we expect things will go wrong and the function will be called with the wrong inputs.\n",
        "\n",
        "For example, run this cell: should the area of \"hi\" and 2 really be \"hihi\"? can an area be negative?"
      ],
      "metadata": {
        "id": "EMjpF0U2vFdl"
      }
    },
    {
      "cell_type": "code",
      "source": [
        "print(compute_area(\"hi\", 2))\n",
        "print(compute_area(-2, 2))"
      ],
      "metadata": {
        "id": "QC5QHmN9vtSx"
      },
      "execution_count": null,
      "outputs": []
    },
    {
      "cell_type": "markdown",
      "source": [
        "These are called an edge or corner case: something at the boundary of what's acceptable.\n",
        "\n",
        "In this course, we do not want such an answer. So instead, we check the type of the argument and throw an explicit `ValueError` or `TypeError` in this case, refactored into a function to avoid repetition. We also check that the argument is positive. And we add those two corner cases as doc-tests:"
      ],
      "metadata": {
        "id": "P-5LZzjRvwRP"
      }
    },
    {
      "cell_type": "code",
      "source": [
        "def check_argument(a):\n",
        "    if not isinstance(a, (int, float)):\n",
        "        raise ValueError(\"arguments must be numbers\")\n",
        "    if a < 0:\n",
        "        raise ValueError(\"arguments must be non-negative\")\n",
        "\n",
        "\n",
        "def compute_area(width, height):\n",
        "    \"\"\"\n",
        "    >>> compute_area(3, 2)\n",
        "    6\n",
        "    >>> compute_square(1.1, 2)\n",
        "    2.2\n",
        "    >>> compute_area(\"hi\", 2)\n",
        "    Traceback (most recent call last):\n",
        "    ...\n",
        "    ValueError: arguments must be numbers\n",
        "    >>> compute_area(-2, 2)\n",
        "    Traceback (most recent call last):\n",
        "    ...\n",
        "    ValueError: arguments must be non-negative\n",
        "    \"\"\"\n",
        "\n",
        "    check_argument(width)\n",
        "    check_argument(height)\n",
        "\n",
        "    return width * height"
      ],
      "metadata": {
        "id": "BosPF6TDwCwf"
      },
      "execution_count": null,
      "outputs": []
    },
    {
      "cell_type": "markdown",
      "source": [
        "You can also use `assert` to ensure that your code is running as you expect. For example, in the computation of the area, you may want to check that it's always positive, otherwise your code has some problem that you should fix at development time. Calling `assert` is a guardrail, a reminder for you to fix your code when writing it. It should never be thrown at runtime, when your code is running.\n",
        "\n",
        "These are the difference between assertions and checking arguments:\n",
        "\n",
        "- checking arguments happens at the top of a function, and never after; assertions should not check the type of an argument, but should be used inside the function\n",
        "\n",
        "- assertions are a coding tool and should always be true at runtime when the code is run (if they do, you should change your code); argument checking can happen at runtime, and the caller should handle the error.\n",
        "\n",
        "Here is an example of using `assert` in the previous function (where I omit doc-tests for clarity). If we checked the arguments correctly, the assertion is always true. If later we decide to allow negative areas, for example to calculate integrals, then this assert will be false and will reminds us to handle that case explicitly."
      ],
      "metadata": {
        "id": "v74zuVVx27r6"
      }
    },
    {
      "cell_type": "code",
      "source": [
        "def compute_area(width, height):\n",
        "    \"\"\"\n",
        "    >>> compute_area(3, 2)\n",
        "    6\n",
        "    >>> compute_square(1.1, 2)\n",
        "    2.2\n",
        "    >>> compute_area(\"hi\", 2)\n",
        "    Traceback (most recent call last):\n",
        "    ...\n",
        "    ValueError: arguments must be numbers\n",
        "    >>> compute_area(-2, 2)\n",
        "    Traceback (most recent call last):\n",
        "    ...\n",
        "    ValueError: arguments must be non-negative\n",
        "    \"\"\"\n",
        "\n",
        "    check_argument(width)\n",
        "    check_argument(height)\n",
        "    area = width * height\n",
        "\n",
        "    assert area >= 0, \"Area should be non-negative!\"\n",
        "\n",
        "    return area"
      ],
      "metadata": {
        "id": "1kiPyT6O4s7H"
      },
      "execution_count": null,
      "outputs": []
    },
    {
      "cell_type": "markdown",
      "source": [
        "## Happy path / readability\n",
        "\n",
        "Consider this function that returns whether a year is a leap year:"
      ],
      "metadata": {
        "id": "7XiJca5x5IfC"
      }
    },
    {
      "cell_type": "code",
      "source": [
        "def is_leap_year(year):\n",
        "    return (year % 4) and not ((year % 100) and not (year % 400))"
      ],
      "metadata": {
        "id": "40M9Ij2H5aHb"
      },
      "execution_count": null,
      "outputs": []
    },
    {
      "cell_type": "markdown",
      "source": [
        "\n",
        "The body of the function is wide with 65 characters and hard to read: should it be `and` or `or`? Are parentheses in the right place? Is it correctly using the conversion of integers to booleans?\n",
        "Because it's hard to read, it's also hard to find the bug.\n",
        "\n",
        "Instead, from assignment 3 onwards, I want you to write functions that are long / vertical and use early returns:"
      ],
      "metadata": {
        "id": "JieMlYO-5hJG"
      }
    },
    {
      "cell_type": "code",
      "source": [
        "def is_leap_year(year):\n",
        "\n",
        "    if year % 400 == 0:\n",
        "        return True\n",
        "\n",
        "    if year % 100 == 0:\n",
        "        return False\n",
        "\n",
        "    return year % 4 == 0"
      ],
      "metadata": {
        "id": "2cNBQm1A5kRM"
      },
      "execution_count": null,
      "outputs": []
    },
    {
      "cell_type": "markdown",
      "source": [
        "Please see the [readability grading guide on Github](https://github.com/mm3509/b9122/blob/main/grading/readability.md) for more examples of refactoring code with the \"Happy Path\", which is the path of the most common case, aligned to the left edge."
      ],
      "metadata": {
        "id": "-MwnnQvd5lOa"
      }
    },
    {
      "cell_type": "markdown",
      "source": [
        "## Debugging\n",
        "\n",
        "Debugging is a big part of programming. Please copy the code below into PyCharm, or your favorite code editor, and understand why the last doc-test fails. Debug it like we did in class."
      ],
      "metadata": {
        "id": "gvqDb653n8Fm"
      }
    },
    {
      "cell_type": "code",
      "source": [
        "import doctest\n",
        "import numpy\n",
        "\n",
        "def sum_numpy(a, b):\n",
        "    \"\"\"\n",
        "    Sum two numbers.\n",
        "    >>> import numpy\n",
        "    >>> a = numpy.uint8(1)\n",
        "    >>> b = numpy.uint8(2)\n",
        "    >>> bool(sum_numpy(a, b) == 3)\n",
        "    True\n",
        "    >>> a = numpy.uint8(250)\n",
        "    >>> b = numpy.uint8(250)\n",
        "    >>> bool(sum_numpy(a, b) == 500)\n",
        "    True\n",
        "    \"\"\"\n",
        "    return a + b\n",
        "\n",
        "doctests = doctest.testmod(optionflags=doctest.ELLIPSIS)\n",
        "assert 0 == doctests.failed, \"Some doc-tests failed, exiting...\"\n",
        "print(\"Your doc-tests pass, congratulations!\")"
      ],
      "metadata": {
        "id": "UmzeNbvloEHw"
      },
      "execution_count": null,
      "outputs": []
    },
    {
      "cell_type": "markdown",
      "source": [
        "## Recursion\n",
        "\n",
        "Recursion is a programming paradigm where you solve a problem at a given step, say for integer `n`, by using the solution at a smaller integer, say `n-1`. The solution starts with a base case.\n",
        "\n",
        "One example is factorial, which is defined recursively as in this function. Notice that the base case, where `n = 0`, is handled first."
      ],
      "metadata": {
        "id": "bLfZ2oCPoepr"
      }
    },
    {
      "cell_type": "code",
      "source": [
        "def factorial(n):\n",
        "    \"\"\"\n",
        "    >>> factorial(0)\n",
        "    1\n",
        "    >>> factorial(3)\n",
        "    6\n",
        "    >>> factorial(4)\n",
        "    24\n",
        "    >>> factorial(3.5)\n",
        "    Traceback (most recent call last):\n",
        "    ...\n",
        "    ValueError: argument must be integer\n",
        "    >>> factorial(\"3\")\n",
        "    Traceback (most recent call last):\n",
        "    ...\n",
        "    ValueError: argument must be integer\n",
        "    >>> factorial(-1)\n",
        "    Traceback (most recent call last):\n",
        "    ...\n",
        "    ValueError: argument must be positive\n",
        "    \"\"\"\n",
        "    if not isinstance(n, int):\n",
        "        raise ValueError(\"argument must be integer\")\n",
        "\n",
        "    if n < 0:\n",
        "        raise ValueError(\"argument must be positive\")\n",
        "\n",
        "    if n == 0:\n",
        "        return 1\n",
        "\n",
        "    return n * factorial(n - 1)"
      ],
      "metadata": {
        "id": "QnwjH68Ro0Ma"
      },
      "execution_count": null,
      "outputs": []
    },
    {
      "cell_type": "markdown",
      "source": [
        "## List comprehension\n",
        "\n",
        "A list comprehension is a way to express a for loop in a much quicker way. It starts with the list syntax (`[]`) with a `for` loop nested inside. This syntax is specific to Python. For example, to generate a list with all the letters of the alphabet (using the correspondence from an ASCII code to a character),, we can use either of these pieces of code; notice how the list comprehension has most of the elements in the for loop, but rearranged in a single line."
      ],
      "metadata": {
        "id": "OCk-oa41pW5r"
      }
    },
    {
      "cell_type": "code",
      "source": [
        "# Equivalent for loop\n",
        "alphabet = []\n",
        "for i in range(97, 122):\n",
        "    alphabet.append(chr(i))\n",
        "\n",
        "# List comprehension\n",
        "alphabet = [chr(i) for i in range(97, 122)]"
      ],
      "metadata": {
        "id": "6Z4Z3qjdpqSh"
      },
      "execution_count": null,
      "outputs": []
    },
    {
      "cell_type": "markdown",
      "source": [
        "## File reading and writing\n",
        "\n",
        "You can read from a file on your computer with a \"context manager\" and this syntax:"
      ],
      "metadata": {
        "id": "0G48KT_Dp_WT"
      }
    },
    {
      "cell_type": "code",
      "source": [
        "# Open a file for reading. The second parameter is \"r\" for \"reading\"\n",
        "with open(\"/path/to/file.txt\", \"r\") as f:\n",
        "      for line in f:\n",
        "            print(line)\n",
        "\n",
        "# Alternatives: f.read(), f.readline(), f.readlines()\n",
        "\n",
        "# Write to a file, with the same syntax, but \"w+\".\n",
        "# \"w\" is for \"writing\", \"+\" is to create the file if it does not exist.\n",
        "with open(\"/path/to/file\", \"w+\") as f:\n",
        "    f.write(\"\\n\".join([\"one\", \"two\", \"three\"]))"
      ],
      "metadata": {
        "id": "_ci2Gjkzqqr2"
      },
      "execution_count": null,
      "outputs": []
    },
    {
      "cell_type": "markdown",
      "source": [
        "## Local scoping\n",
        "\n",
        "When you declare a variable inside a function, Python creates a variable that is defined only inside that function, which is called \"local scoping\". If you reuse a variable name, for example from an argument, Python has two variables, one that is local to the function and one that is not.\n",
        "\n",
        "For example, understand why this piece of code at the end does not print a dictionary with just one key, `uni3`:"
      ],
      "metadata": {
        "id": "qwuFaq7upHOx"
      }
    },
    {
      "cell_type": "markdown",
      "source": [],
      "metadata": {
        "id": "eIiJOQHuyNrm"
      }
    },
    {
      "cell_type": "code",
      "source": [
        "def other_function(d):\n",
        "    d = {}\n",
        "    d[\"uni3\"] = 4\n",
        "\n",
        "d = {\"uni1\": 1, \"uni2\": 3}\n",
        "print(d)\n",
        "other_function(d)\n",
        "print(d)"
      ],
      "metadata": {
        "id": "weh20p7NrfU2"
      },
      "execution_count": null,
      "outputs": []
    },
    {
      "cell_type": "markdown",
      "source": [
        "# NumPy\n",
        "\n",
        "NumPy, for \"Numerical Python\", is a package for computations such as linear algebra. The MNIST images in assignment 2 were stored as a matrix of size 28x28, with elements.\n",
        "\n",
        "Most of the time, you won't use NumPy directly, but use algorithms packages like SciKit-Learn that use NumPy. So this is a primer with just the basics.\n",
        "\n",
        "NumPy is often abbreviated as `np` to type faster."
      ],
      "metadata": {
        "id": "AY6zchG_3esz"
      }
    },
    {
      "cell_type": "markdown",
      "source": [
        "### Arrays\n",
        "\n",
        "You create an array by calling `np.array()` on a list (for a vector) and a list of lists (for a matrix)."
      ],
      "metadata": {
        "id": "Mc_iqH6L_t0w"
      }
    },
    {
      "cell_type": "code",
      "source": [
        "import numpy as np\n",
        "vector = np.array([1, 2, 3, 4])\n",
        "print(\"Vector: \", vector)\n",
        "\n",
        "matrix = np.array([[1, 2], [3, 4]])\n",
        "print(\"Matrix: \", matrix)"
      ],
      "metadata": {
        "id": "wIHc3d7q4gBI"
      },
      "execution_count": null,
      "outputs": []
    },
    {
      "cell_type": "markdown",
      "source": [
        "Even though they have different dimensions, they are both called \"arrays\".\n",
        "\n",
        "A one-dimensional array, abbreviated as \"1-D array\", is represented by the `print()` function as a row vector.\n",
        "\n",
        "A two-dimensional array, abbreviated as \"2-D array\", is represented by the `print()` function as a matrix, or list of lists.\n",
        "\n",
        "You convert from 1-D arrays to 2-D arrays with `np.reshape()`. This can often go wrong, so please use carefully. The function takes as arguments an array and a tuple with the dimension. NumPy will distribute the elements from the argument array into an array of the new size. If you pass `-1` as a dimension, this will be inferred from the number of elements in the argument array and the other dimensions in the tuple. For now, please only use with `1` or `-1` in the dimensions, to convert between row/column vectors to the equivalent arrays.\n",
        "\n",
        "\n",
        "Reshaping with `(-1, 1)` converts an array to the equivalent of a column vector. Reshaping with `(1, -1)` converts an array to the equivalent of a row vector."
      ],
      "metadata": {
        "id": "NS_4qzHcGXKm"
      }
    },
    {
      "cell_type": "code",
      "source": [
        "vector_as_2d_array = np.reshape(vector, (1, -1))\n",
        "print(\"Vector has shape\", vector.shape)\n",
        "print(\"Matrix has shape\", vector_as_2d_array.shape)"
      ],
      "metadata": {
        "id": "P_TDVAaSGjSY"
      },
      "execution_count": null,
      "outputs": []
    },
    {
      "cell_type": "markdown",
      "source": [
        "### Array shape\n",
        "\n",
        "You get the size of an array with the attribute `.shape` (it's a field, not a function, as has no parentheses):"
      ],
      "metadata": {
        "id": "EQFbaZiR5cdc"
      }
    },
    {
      "cell_type": "code",
      "source": [
        "print(\"Vector has shape: \", vector.shape)\n",
        "print(\"Matrix has shape: \", matrix.shape)"
      ],
      "metadata": {
        "id": "D4VhvpSk5uky"
      },
      "execution_count": null,
      "outputs": []
    },
    {
      "cell_type": "markdown",
      "source": [
        "### Array type\n",
        "\n",
        "All elements in an array have the same type (unlike lists in Python). For example, this code throws an error:"
      ],
      "metadata": {
        "id": "xILtxc776DM3"
      }
    },
    {
      "cell_type": "code",
      "source": [
        "np.array([1, 2, (3, 4)])"
      ],
      "metadata": {
        "id": "dl4ZUDSF53fw"
      },
      "execution_count": null,
      "outputs": []
    },
    {
      "cell_type": "markdown",
      "source": [
        "You can check the type of the array by checking the type of an element. Notice that NumPy variables have the number of bits in the type (for example, int64 is an integer of 64 bits):"
      ],
      "metadata": {
        "id": "LLUqB9sI6SLl"
      }
    },
    {
      "cell_type": "code",
      "source": [
        "print(type(vector[1]))"
      ],
      "metadata": {
        "id": "3AwAFFNz6XeH"
      },
      "execution_count": null,
      "outputs": []
    },
    {
      "cell_type": "markdown",
      "source": [
        "You can convert between types with the method `.astype()`, for example to convert to floats of size 32:"
      ],
      "metadata": {
        "id": "OOOJ82hQ62OC"
      }
    },
    {
      "cell_type": "code",
      "source": [
        "vector_float = vector.astype(np.float32)\n",
        "print(type(vector_float[1]))"
      ],
      "metadata": {
        "id": "5H_KcOT56cId"
      },
      "execution_count": null,
      "outputs": []
    },
    {
      "cell_type": "markdown",
      "source": [
        "### Initialize new arrays\n",
        "\n",
        "You can initialize an array of a given size full of zeros or ones with `np.zeros()` and `np.ones()`, which take as argument a tuple for the size.\n",
        "\n",
        "By default, these functions create an array with type float, which is why you see a dot at after the integers."
      ],
      "metadata": {
        "id": "3TNczZDz7HSn"
      }
    },
    {
      "cell_type": "code",
      "source": [
        "a = np.zeros((2, 2))\n",
        "print(\"a = \", a)\n",
        "b = np.ones((2, 2))\n",
        "print(\"b = \", b)"
      ],
      "metadata": {
        "id": "0tGZb1T47aTi"
      },
      "execution_count": null,
      "outputs": []
    },
    {
      "cell_type": "markdown",
      "source": [
        "You can create vector by passing a tuple of size 1: `(3,)` (the comma at the end makes this a tuple instead of an integer):"
      ],
      "metadata": {
        "id": "X4GZ6-3R7zHI"
      }
    },
    {
      "cell_type": "code",
      "source": [
        "vector = np.ones((3, ))\n",
        "print(vector)\n",
        "print(vector.shape)"
      ],
      "metadata": {
        "id": "ACRlWPoi8BcX"
      },
      "execution_count": null,
      "outputs": []
    },
    {
      "cell_type": "markdown",
      "source": [
        "You can create a diagonal matrix with `np.diag()`, which takes an array and places it in the diagonal:"
      ],
      "metadata": {
        "id": "FmMEQAd__7rw"
      }
    },
    {
      "cell_type": "code",
      "source": [
        "#a = np.diag(np.array([1, 2, 3]))\n",
        "print(np.eye(3))\n",
        "#print(a)"
      ],
      "metadata": {
        "id": "9vthBWcMAL6U"
      },
      "execution_count": null,
      "outputs": []
    },
    {
      "cell_type": "markdown",
      "source": [
        "### Array stacking\n",
        "\n",
        "We stack arrays horizontally or vertically with `np.hstack()` or `np.vstack()`, which take as arguments a **list** of arrays:"
      ],
      "metadata": {
        "id": "1KxHVWOJEnXo"
      }
    },
    {
      "cell_type": "code",
      "source": [
        "a = np.ones((3, 1))\n",
        "b = np.zeros((3, 1))\n",
        "c = np.hstack([a, b])\n",
        "print(\"horizontal:\", c, sep=\"\\n\")\n",
        "d = np.vstack([a, b])\n",
        "print(\"vertical:\")\n",
        "print(d)"
      ],
      "metadata": {
        "id": "L6DauKtVE5Dw"
      },
      "execution_count": null,
      "outputs": []
    },
    {
      "cell_type": "markdown",
      "source": [
        "### Indexing\n",
        "\n",
        "Arrays behave like lists, so you can access their values with the same notation. For example, this creates an upper diagonal matrix:"
      ],
      "metadata": {
        "id": "PuFvOUfYBc_V"
      }
    },
    {
      "cell_type": "code",
      "source": [
        "a = np.eye(2)\n",
        "a[0, 1] = 1\n",
        "print(\"a\", a, sep=\"\\n\")\n",
        "print(\"The lower left value is:\", a[1, 0])"
      ],
      "metadata": {
        "id": "T5qDk7RTB005"
      },
      "execution_count": null,
      "outputs": []
    },
    {
      "cell_type": "markdown",
      "source": [
        "### Basic array operations\n",
        "\n",
        "Operations follow the intuitive math standard. For example, you can add a number to a vector, which adds that number to every element in the vector (the number is \"broadcast\" to the vector):"
      ],
      "metadata": {
        "id": "YTw_JhHZ8JDA"
      }
    },
    {
      "cell_type": "code",
      "source": [
        "print(5 + np.ones((3,)))"
      ],
      "metadata": {
        "id": "nqihvlJB8TKn"
      },
      "execution_count": null,
      "outputs": []
    },
    {
      "cell_type": "markdown",
      "source": [
        "Likewise, you can multiply a number with a vector:"
      ],
      "metadata": {
        "id": "oNH6sxd58Z9U"
      }
    },
    {
      "cell_type": "code",
      "source": [
        "print(5 * np.ones((3,)))"
      ],
      "metadata": {
        "id": "3w-myNEw8gF9"
      },
      "execution_count": null,
      "outputs": []
    },
    {
      "cell_type": "markdown",
      "source": [
        "You can add two vectors:"
      ],
      "metadata": {
        "id": "od322-xh8qDe"
      }
    },
    {
      "cell_type": "code",
      "source": [
        "print(np.ones((3,)) + 6 * np.ones(3,))"
      ],
      "metadata": {
        "id": "CW3s-GNp8vo1"
      },
      "execution_count": null,
      "outputs": []
    },
    {
      "cell_type": "markdown",
      "source": [
        "You can add a vector and a matrix of the compatible size. The vector is converted to a matrix (subtype polymorphism, just like `1 + 2.5` converts the integer `1` to a float):"
      ],
      "metadata": {
        "id": "8MMkqn9e9mPr"
      }
    },
    {
      "cell_type": "code",
      "source": [
        "print(np.ones((3,)) + np.ones((1, 3)))"
      ],
      "metadata": {
        "id": "CFpuTONf916J"
      },
      "execution_count": null,
      "outputs": []
    },
    {
      "cell_type": "markdown",
      "source": [
        "but if the sizes are not compatible, for example a vector (which is size (1,3)) plus a matrix of size (3,1), you get a matrix of size (3,3):"
      ],
      "metadata": {
        "id": "1CCxLPjR-IyA"
      }
    },
    {
      "cell_type": "code",
      "source": [
        "a = np.ones((3,))\n",
        "b = np.ones((3, 1))\n",
        "print(a.shape)\n",
        "print(b.shape)\n",
        "print(a)\n",
        "print(b)\n",
        "print(np.ones((3,)) + np.ones((3, 1)))"
      ],
      "metadata": {
        "id": "G2S9dYFo-VMJ"
      },
      "execution_count": null,
      "outputs": []
    },
    {
      "cell_type": "markdown",
      "source": [
        "## Matrix operations\n",
        "\n",
        "You can do matrix manipulation, for example `.T` tranposes a matrix:"
      ],
      "metadata": {
        "id": "cZu9ALSG-ZYt"
      }
    },
    {
      "cell_type": "code",
      "source": [
        "a = np.zeros((4, 2))\n",
        "print(\"Original: \", a, sep=\"\\n\")\n",
        "print(\"Transpose: \", a.T, sep=\"\\n\")"
      ],
      "metadata": {
        "id": "tlGkdddl-djj"
      },
      "execution_count": null,
      "outputs": []
    },
    {
      "cell_type": "markdown",
      "source": [
        "You can multiply matrices with the `np.matmul()`, which takes two arrays of compatible shape:"
      ],
      "metadata": {
        "id": "qbHgF8kC_F5F"
      }
    },
    {
      "cell_type": "code",
      "source": [
        "a = np.ones((3, 2))\n",
        "np.matmul(a, a.T)"
      ],
      "metadata": {
        "id": "LmbNLi50_HwE"
      },
      "execution_count": null,
      "outputs": []
    },
    {
      "cell_type": "markdown",
      "source": [
        "You can invert a matrix with `np.linalg.inv()`:"
      ],
      "metadata": {
        "id": "sw-krOR0_gwO"
      }
    },
    {
      "cell_type": "code",
      "source": [
        "a = np.diag([1, 2, 3])\n",
        "a[0, 2] = 4\n",
        "print(\"a:\", a, sep=\"\\n\")\n",
        "\n",
        "a_inverse = np.linalg.inv(a)\n",
        "print(\"inverse:\", a_inverse)\n",
        "\n",
        "c = np.matmul(a, a_inverse)\n",
        "print(\"multiplication:\")\n",
        "print(c)"
      ],
      "metadata": {
        "id": "SQEdSTthAya6"
      },
      "execution_count": null,
      "outputs": []
    },
    {
      "cell_type": "markdown",
      "source": [
        "### Linear regression\n",
        "\n",
        "A linear regression is simply matrix multiplication:\n",
        "\n",
        "beta = (X' * X) ^{-1} * (X * Y)\n",
        "\n",
        "so we can run a linear regression within NumPy.\n",
        "\n",
        "This next cell starts the random number generator to a certain state, called a \"seed\", so you'll generate the same data as me.\n",
        "\n",
        "It generates random data (using two functions from `np.random`, for the uniform distribution and normal distribution)."
      ],
      "metadata": {
        "id": "F7fjoL0sCTRG"
      }
    },
    {
      "cell_type": "code",
      "source": [
        "N = 200\n",
        "alpha = 4\n",
        "beta = 2\n",
        "\n",
        "np.random.seed(42)\n",
        "x = np.random.uniform(low=0.5, high=13.3, size=N)\n",
        "error = np.random.normal(loc=0.0, scale=2.0, size=N)\n",
        "y = alpha + beta * x + error\n",
        "print(y.shape)"
      ],
      "metadata": {
        "id": "hgGjAERWC0OR"
      },
      "execution_count": null,
      "outputs": []
    },
    {
      "cell_type": "markdown",
      "source": [
        "To run the regression, we convert `x` to a matrix of the same shape as a column vector:"
      ],
      "metadata": {
        "id": "RkmstZG6EFLU"
      }
    },
    {
      "cell_type": "code",
      "source": [
        "x_as_array = np.reshape(x, (-1, 1))\n",
        "y_as_array = np.reshape(y, (-1, 1))\n",
        "print(x_as_array.shape)"
      ],
      "metadata": {
        "id": "aqv-UFYSETPz"
      },
      "execution_count": null,
      "outputs": []
    },
    {
      "cell_type": "markdown",
      "source": [
        "We confirm it has the right shape. We now stack the constant horizontally:"
      ],
      "metadata": {
        "id": "k4dO2fKjHI84"
      }
    },
    {
      "cell_type": "code",
      "source": [
        "constant = np.ones((N, 1))\n",
        "x_with_constant = np.hstack([constant, x_as_array])\n",
        "print(\"Regressors have shape:\", x_with_constant.shape)"
      ],
      "metadata": {
        "id": "ku1BW3vaHPnY"
      },
      "execution_count": null,
      "outputs": []
    },
    {
      "cell_type": "markdown",
      "source": [
        "And now we run the formula to find the parameters:"
      ],
      "metadata": {
        "id": "VrrBweBeHWF1"
      }
    },
    {
      "cell_type": "code",
      "source": [
        "xx = np.matmul(x_with_constant.T, x_with_constant)\n",
        "xx_inv = np.linalg.inv(xx)\n",
        "xy = np.matmul(x_with_constant.T, y_as_array)\n",
        "\n",
        "beta_hat = np.matmul(xx_inv, xy)\n",
        "print(\"Your linear regression produced these estimates:\")\n",
        "print(beta_hat)\n",
        "print(\"The original values are:\", alpha, beta)"
      ],
      "metadata": {
        "id": "Hr5-b6RRHZMe"
      },
      "execution_count": null,
      "outputs": []
    },
    {
      "cell_type": "markdown",
      "source": [
        "With 200 data points, we got estimates very close to the data!\n",
        "\n",
        "Note: if you multiply matrices and get an error `ValueError: matmul: Input operand 1 has a mismatch ...`, your matrices have incompatible sizes. Check the size of each matrix with `.shape`. The sizes have to follow this rule:\n",
        "\n",
        "```\n",
        "(M , N) * (N , K) => Result dimensions is (M, K)\n",
        "```"
      ],
      "metadata": {
        "id": "fVfjbW2IKaSq"
      }
    },
    {
      "cell_type": "markdown",
      "source": [
        "# Plotting\n",
        "\n",
        "Now we plot these results. We'll use `matplotlib`, a package for plotting in Python. First, a scatter plot with `scatter()`:"
      ],
      "metadata": {
        "id": "_HFJTmNgw_cd"
      }
    },
    {
      "cell_type": "code",
      "source": [
        "import matplotlib.pyplot as plt\n",
        "plt.scatter(x, y)"
      ],
      "metadata": {
        "id": "P71lgzc2xDHC"
      },
      "execution_count": null,
      "outputs": []
    },
    {
      "cell_type": "markdown",
      "source": [
        "Then, we add the lines on top of the scatter. To do so, we predict the value of y at each value of x with the formula:  `y_predicted = beta_hat * x_with_constant` (when implementing, we have to adapt the formula so the multiplication has compatible dimensions). We plot a line with `plot()` and pass the color red as an argument `c=\"r\"`:"
      ],
      "metadata": {
        "id": "eXigogt7xExL"
      }
    },
    {
      "cell_type": "code",
      "source": [
        "y_predicted = np.matmul(x_with_constant, beta_hat)\n",
        "plt.scatter(x, y)\n",
        "plt.plot(x, y_predicted, c=\"r\")"
      ],
      "metadata": {
        "id": "7CBuCPsgxHEW"
      },
      "execution_count": null,
      "outputs": []
    },
    {
      "cell_type": "markdown",
      "source": [
        "# Sci-Kit Learn\n",
        "\n",
        "We did this linear regression from scratch to learn matrix manipulation in NumPy and Matplotlib.\n",
        "\n",
        "In practice, you'll often use the Sci-Kit Learn package, which has linear regression and many algorithms. (Note: if you have to install it, remember that it has two names: you install the package with `scikit-learn` and import the module with `sklearn`; see details [here](https://towardsdatascience.com/scikit-learn-vs-sklearn-6944b9dc1736?gi=cafe4b37d090)).\n",
        "\n",
        "We'll run the same regression in Sci-Kit learn to make sure we have the right results.\n",
        "\n",
        "We import the linear regression module, start a new linear regresssion, update it to fit the data (in-place!), and print the coefficients. Notice that the linear regression already adds a constant:"
      ],
      "metadata": {
        "id": "H0pKS3NNxJDs"
      }
    },
    {
      "cell_type": "code",
      "source": [
        "import sklearn.linear_model\n",
        "reg = sklearn.linear_model.LinearRegression()\n",
        "reg.fit(x_as_array, y_as_array)\n",
        "print(reg.coef_)"
      ],
      "metadata": {
        "id": "YbGO-VSVxMoT"
      },
      "execution_count": null,
      "outputs": []
    },
    {
      "cell_type": "markdown",
      "source": [
        "Finally, we compare to the value we found \"by hand\" with NumPy:"
      ],
      "metadata": {
        "id": "x-PwGHhgxOnb"
      }
    },
    {
      "cell_type": "code",
      "source": [
        "coeff_from_sklearn = reg.coef_[0, 0]\n",
        "coeff_from_numpy = beta_hat[1, 0]\n",
        "print(coeff_from_sklearn,\n",
        "      coeff_from_numpy,\n",
        "      abs(coeff_from_sklearn - coeff_from_numpy) < 1e-12,\n",
        "      sep=\"\\n\")"
      ],
      "metadata": {
        "id": "ZMqTqXw_xQZO"
      },
      "execution_count": null,
      "outputs": []
    }
  ]
}