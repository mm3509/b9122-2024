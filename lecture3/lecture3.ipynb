{
 "cells": [
  {
   "cell_type": "markdown",
   "id": "814d956e-9a41-4ecf-a730-291084dd3420",
   "metadata": {},
   "source": [
    "# Catch-up\n",
    "\n",
    "## List comprehensions\n",
    "\n",
    "A list comprehension in one line instead of a for loop with 3 lines\n",
    "\n",
    "– faster to read / more readable\n",
    "\n",
    "– faster to write / more productive"
   ]
  },
  {
   "cell_type": "code",
   "execution_count": null,
   "id": "28ad47b9-53c2-41e3-b4ff-af5af30c2f31",
   "metadata": {},
   "outputs": [],
   "source": [
    "# List comprehension\n",
    "[chr(i) for i in range(97, 122)]\n",
    "\n",
    "# Equivalent for loop\n",
    "alphabet = []\n",
    "for i in range(97, 122):\n",
    "    alphabet.append(chr(i))"
   ]
  },
  {
   "cell_type": "markdown",
   "id": "5986d71d-ad31-484b-958c-cd7e0529b633",
   "metadata": {},
   "source": [
    "## View vs. copy"
   ]
  },
  {
   "cell_type": "code",
   "execution_count": null,
   "id": "c0a96297-0d60-4ad8-b1c9-2c9f248346d0",
   "metadata": {},
   "outputs": [],
   "source": [
    "a = [1, 2, 3]\n",
    "a\n",
    "\n",
    "b = a\n",
    "b[2] = 4       # What do you expect to happen to a?\n",
    "a\n",
    "\n",
    "a = [1, 2, 3]\n",
    "c = a.copy()\n",
    "c[2] = 4       # What do you expect to happen to a?\n",
    "a"
   ]
  },
  {
   "cell_type": "markdown",
   "id": "e73545be-84e9-4ad9-9272-bc91534c7737",
   "metadata": {},
   "source": [
    "Complex objects are a “pointer” to a memory address containing the “values”\n",
    "\n",
    "By default, an assignment `a = b` is a “view”, not a “copy”\n",
    "\n",
    "You have to be careful which you're using (you may even need `deepcopy`)"
   ]
  },
  {
   "cell_type": "markdown",
   "id": "0443cabe-7f73-4db3-8928-d62aac3d3b1b",
   "metadata": {},
   "source": [
    "## Value vs. reference"
   ]
  },
  {
   "cell_type": "code",
   "execution_count": null,
   "id": "685fb7d1-c70f-4941-a0a5-fef895f230a6",
   "metadata": {},
   "outputs": [],
   "source": [
    "a = [1, 2]\n",
    "b = [1, 2]\n",
    "a is b      # What do you expect?\n",
    "a == b      # What do you expect?\n",
    "\n",
    "\n",
    "a = 42\n",
    "b = 42\n",
    "a is b      # What do you expect?\n",
    "a == b      # What do you expect?\n",
    "\n",
    "a = 257\n",
    "b = 257\n",
    "a is b      # What do you expect?\n",
    "a == b      # What do you expect?\n",
    "\n",
    "            # Advanced: find the maximum integer that,\n",
    "            # like 42, fits the first case (a is b is True)\n",
    "\n",
    "\t\t\t# Advanced: find the smallest such integer."
   ]
  },
  {
   "cell_type": "markdown",
   "id": "42bec605-63d7-412f-b1c6-222f9870cb2e",
   "metadata": {},
   "source": [
    "• A variable is a pointer to a memory address (reference)\n",
    "\n",
    "• A value is the content of that memory address\n",
    "\n",
    "• `is` compares references / memory addresses (very fast)\n",
    "\n",
    "• `==` compares values / contents (can be slow)\n",
    "\n",
    "• For speed, Python only has one integer between -5 and 256:\n",
    "\n",
    "– “The current implementation keeps an array of integer objects for all integers between -5 and 256. When you create an int in that range you actually just get back a reference to the existing object.” [ref](https://docs.python.org/3/c-api/long.html#c.PyLong_FromLong)\n",
    "\n",
    "– same with `None`: there's only one, so you can write `a is None`\n",
    "\n",
    "• It will become clearer in C, where it is explicit"
   ]
  },
  {
   "cell_type": "markdown",
   "id": "ff6579c4-1e3c-46b6-a33b-7fb99c8ffb77",
   "metadata": {},
   "source": [
    "## Dictionaries"
   ]
  },
  {
   "cell_type": "code",
   "execution_count": null,
   "id": "60315ea4-d09a-4b9e-bbc8-22e3ede0b670",
   "metadata": {},
   "outputs": [],
   "source": [
    "attendance = {\"uni1\": 0, \"uni2\": 0, \"uni3\": 0}\n",
    "attendance[\"uni1\"]\n",
    "\n",
    "attendance\n",
    "\n",
    "len(attendance)           # Same len() as before?\n",
    "list(attendance.keys())\n",
    "\n",
    "attendance[\"uni2\"] += 1   # What's +=?\n",
    "attendance[\"uni2\"]\n",
    "\n",
    "attendance.get(\"uni2\")    # What's the difference?\n",
    "\n",
    "attendance[\"uni4\"] = 0    # What does this do?\n",
    "\n",
    "attendance[1234] = 0      # Does this work?\n",
    "\n",
    "all_unis = [\"uni%d\" % d for d in range(105)]  # What's []? What's %d?\n",
    "dict.fromkeys(all_unis, 0)  # What does this do?"
   ]
  },
  {
   "cell_type": "markdown",
   "id": "5139aae6-986a-4bb4-a688-5777cc81a46b",
   "metadata": {},
   "source": [
    "• Lists assign items to positions\n",
    "\n",
    "• Dictionary assign items to more mnemonic keys\n",
    "\n",
    "  * Dictionaries data often carries more meaning to human readers\n",
    "\n",
    "• Usage depends on the task and data type!\n",
    "\n",
    "• In practice:\n",
    "\n",
    "  * Lists are more efficient when the data access by position makes sense: example?\n",
    "\n",
    "  * Dictionaries are better suited for data with labeled components: example?"
   ]
  },
  {
   "cell_type": "markdown",
   "id": "5954d18c-3e10-4d64-822e-33c57d8e2b7f",
   "metadata": {},
   "source": [
    "## Speed (morning section only)"
   ]
  },
  {
   "cell_type": "code",
   "execution_count": null,
   "id": "856a2ff1-d2bf-424c-8e21-331ef6d1159e",
   "metadata": {},
   "outputs": [],
   "source": [
    "import timeit  # Or some other package to measure execution time.\n",
    "               # Type help(timeit) or search online how to use it.\n",
    "num_runs = int(1e6)\n",
    "\n",
    "def compare(integer_value, method):\n",
    "    \"\"\"Define a helper function to avoid repetition.\n",
    "    \"\"\"\n",
    "    ...\n",
    "\n",
    "def compare_42_ref():\n",
    "    compare(42, \"reference\")\n",
    "\n",
    "timeit(compare_42_ref)\n",
    "timeit(lambda: compare(42, \"reference\"))\n",
    "\n",
    "# Compute time taken for each comparison: numbers 42 and 257, by reference and by value.\n",
    "# Compute how much faster is comparison by reference as opposed to by value."
   ]
  },
  {
   "cell_type": "markdown",
   "id": "42490fc3-3464-416b-be47-a452cf37658d",
   "metadata": {},
   "source": [
    "# Modules\n",
    "\n",
    "• “Clone” my repo:\n",
    "\n",
    "  – with this code in a Unix shell: cd; git clone https://github.com/mm3509/b9122\n",
    "\n",
    "  – from the GitHub website: https://github.com/mm3509/b9122\n",
    "\n",
    "• Write a Python file “my_file.py” in the same directory that imports this module\n",
    "\n",
    "• Run your file with “python3 my_file.py”\n",
    "\n",
    "  – when running, use the UNI of your Columbia email (maybe a GSB one)"
   ]
  },
  {
   "cell_type": "code",
   "execution_count": null,
   "id": "e8c8cdbf-a7bf-49b8-85ce-ac52995c55a5",
   "metadata": {},
   "outputs": [],
   "source": [
    "import b9122"
   ]
  },
  {
   "cell_type": "markdown",
   "id": "79d61eac-e695-4786-a148-55276017b938",
   "metadata": {},
   "source": [
    "• Importing the module caused execution of the sample code, and marked your attendance\n",
    "\n",
    "  – edit the file “b9122.py” to avoid it with the variable `__name__`: what happens if you import it now?"
   ]
  },
  {
   "cell_type": "code",
   "execution_count": null,
   "id": "87512b21-c4dd-473a-9658-f1da02b36b19",
   "metadata": {},
   "outputs": [],
   "source": [
    "# File b9122.py\n",
    "# ...\n",
    "\n",
    "mark_attendance()"
   ]
  },
  {
   "cell_type": "markdown",
   "id": "8c1c6ff3-1b9c-4266-9d22-a9d5018c651c",
   "metadata": {},
   "source": [
    "## Modules vs. packages\n",
    "\n",
    "• Write a function that prints the current time (use `help(datetime)` if needed)"
   ]
  },
  {
   "cell_type": "code",
   "execution_count": null,
   "id": "bfb2442d-9f71-4b07-96de-8cfdacf54837",
   "metadata": {},
   "outputs": [],
   "source": [
    "import datetime\n",
    "\n",
    "# TODO: use the module to write the current time."
   ]
  },
  {
   "cell_type": "markdown",
   "id": "191f0959-e431-4d23-84b4-0ccc3d29a0b3",
   "metadata": {},
   "source": [
    "# Grading rubric\n",
    "\n",
    "## Subsection 3.1 Defensive programming (afternoon section only)\n",
    "\n",
    "• Example: write a function that takes height and width and computes the area"
   ]
  },
  {
   "cell_type": "code",
   "execution_count": null,
   "id": "107fbcb1-d983-4ac8-9bac-a9c2fe4b02de",
   "metadata": {},
   "outputs": [],
   "source": [
    "def compute_area(height, width):\n",
    "    return ...\n"
   ]
  },
  {
   "cell_type": "markdown",
   "id": "9d02a887-8eb0-47cc-a4f2-6621e95ec8cd",
   "metadata": {},
   "source": [
    "## Test-driven development"
   ]
  },
  {
   "cell_type": "code",
   "execution_count": null,
   "id": "9e08b139-6ed7-4d88-8bf3-f1eafe470bb4",
   "metadata": {},
   "outputs": [],
   "source": [
    "import doctest\n",
    "\n",
    "def compute_area(height, width):\n",
    "    \"\"\"\n",
    "    >>> compute_area(2, 3)\n",
    "    6\n",
    "    >>> compute_area(2, -1)\n",
    "    Traceback (most recent call last):\n",
    "        ...\n",
    "    ValueError: arguments must be positive\n",
    "    >>> compute_area(\"B9122\", 2)\n",
    "    Traceback (most recent call last):\n",
    "        ...\n",
    "    ValueError: arguments must be numbers\n",
    "    \"\"\"\n",
    "\n",
    "    # TODO: complete this function.\n",
    "\n",
    "\n",
    "doctests = doctest.testmod(optionflags=doctest.ELLIPSIS)\n",
    "assert 0 == doctests.failed, \"Some doc-tests failed, exiting...\"\n",
    "print(\"All tests succeed, good job!\")"
   ]
  },
  {
   "cell_type": "markdown",
   "id": "6df732e8-062b-4936-b041-644c0ded1f69",
   "metadata": {},
   "source": [
    "## DRY: Don't Repeat Yourself"
   ]
  },
  {
   "cell_type": "code",
   "execution_count": null,
   "id": "ba3d0a51-6b05-48be-b80a-3f097887f34a",
   "metadata": {},
   "outputs": [],
   "source": [
    "import doctest\n",
    "\n",
    "# Write a helper function here.\n",
    "\n",
    "def compute_area(height, width):\n",
    "    \"\"\"\n",
    "    >>> compute_area(2, 3)\n",
    "    6\n",
    "    >>> compute_area(2, -1)\n",
    "    Traceback (most recent call last):\n",
    "        ...\n",
    "    ValueError: arguments must be positive\n",
    "    >>> compute_area(\"B9122\", 2)\n",
    "    Traceback (most recent call last):\n",
    "        ...\n",
    "    ValueError: arguments must be numbers\n",
    "    \"\"\"\n",
    "\n",
    "    # Complete the function here.\n",
    "\n",
    "\n",
    "doctests = doctest.testmod(optionflags=doctest.ELLIPSIS)\n",
    "assert 0 == doctests.failed, \"Some doc-tests failed, exiting...\"\n",
    "print(\"All tests succeed, good job!\")"
   ]
  },
  {
   "cell_type": "markdown",
   "id": "6ae10dd8-1c4c-4cba-a95f-d9356c65fcf1",
   "metadata": {},
   "source": [
    "## Assertions"
   ]
  },
  {
   "cell_type": "code",
   "execution_count": null,
   "id": "5e9175c1-bfb9-49f8-ba85-d51e113474a6",
   "metadata": {},
   "outputs": [],
   "source": [
    "import doctest\n",
    "\n",
    "# Write a helper function here.\n",
    "\n",
    "def compute_area(height, width):\n",
    "    \"\"\"\n",
    "    >>> compute_area(2, 3)\n",
    "    6\n",
    "    >>> compute_area(2, -1)\n",
    "    Traceback (most recent call last):\n",
    "        ...\n",
    "    ValueError: arguments must be positive\n",
    "    >>> compute_area(\"B9122\", 2)\n",
    "    Traceback (most recent call last):\n",
    "        ...\n",
    "    ValueError: arguments must be numbers\n",
    "    \"\"\"\n",
    "\n",
    "    # Complete the function here.\n",
    "\n",
    "\n",
    "doctests = doctest.testmod(optionflags=doctest.ELLIPSIS)\n",
    "assert 0 == doctests.failed, \"Some doc-tests failed, exiting...\"\n",
    "print(\"All tests succeed, good job!\")"
   ]
  },
  {
   "cell_type": "markdown",
   "id": "0d35c8a9-6ba1-4a9b-a8d1-38cf5566afa9",
   "metadata": {},
   "source": [
    "# Python\n",
    "\n",
    "## Program control"
   ]
  },
  {
   "cell_type": "code",
   "execution_count": null,
   "id": "3d80b271-b2c4-4d79-8c60-3fc5e27ce016",
   "metadata": {},
   "outputs": [],
   "source": [
    "student = {\"first name\": \"Miguel\", \"last name\": \"Morin\", \"uni\": \"mm3509\", \"zip code\": 10027}\n",
    "\n",
    "# print details, starting with \"for ...\""
   ]
  },
  {
   "cell_type": "markdown",
   "id": "483cf5cc-2462-4e47-91c2-f3889442a366",
   "metadata": {},
   "source": [
    "## Loops"
   ]
  },
  {
   "cell_type": "code",
   "execution_count": null,
   "id": "51335ebd-cc08-4eb6-b644-51919fc01d89",
   "metadata": {},
   "outputs": [],
   "source": [
    "# Compute cumulative interest repayments.\n",
    "principal = 1000\n",
    "rate = 4.5\n",
    "total = 0\n",
    "\n",
    "\n",
    "# With while loop.\n",
    "year = 0\n",
    "while year <= 10:  # Notice the colon.\n",
    "    ...  # Notice the indentation.\n",
    "\n",
    "\n",
    "# With for loop.\n",
    "for _ in range(1, 11):  # Notice the colon. What's _?\n",
    "    ...  # Notice the indentation"
   ]
  },
  {
   "cell_type": "markdown",
   "id": "780280fe-1796-4843-b6e6-cfd83c22a2b7",
   "metadata": {},
   "source": [
    "### Exiting a loop"
   ]
  },
  {
   "cell_type": "code",
   "execution_count": null,
   "id": "11ac0300-3e92-4b26-9962-6de0b51b1be6",
   "metadata": {},
   "outputs": [],
   "source": [
    "# Compute cumulative interest repayments.\n",
    "principal = 1000\n",
    "rate = 4.5\n",
    "total = 0\n",
    "\n",
    "# With while loop.\n",
    "year = 0\n",
    "while True:\n",
    "    year += 1\n",
    "    if ...:  # Add this condition, with keyword \"break\"."
   ]
  },
  {
   "cell_type": "markdown",
   "id": "31851f99-c63f-4e8d-90e3-aa3e1d506a70",
   "metadata": {},
   "source": [
    "## Conditionals: if, elif, else"
   ]
  },
  {
   "cell_type": "code",
   "execution_count": null,
   "id": "e4388cf1-7adc-4235-8d7b-f12bb3e6ae08",
   "metadata": {},
   "outputs": [],
   "source": [
    "x = int(input(\"Please enter an integer: \"))\n",
    "if ...:  # Notice the colon.\n",
    "    ...  # Note the indentation.\n",
    "elif ...:  # \"elif\" equivalent to \"else if\"\n",
    "    ...\n",
    "else:\n",
    "    ...."
   ]
  },
  {
   "cell_type": "markdown",
   "id": "5752defa-96d5-41ca-8c12-ec39f51e5117",
   "metadata": {},
   "source": [
    "## Functions"
   ]
  },
  {
   "cell_type": "code",
   "execution_count": null,
   "id": "d70587c1-45b3-42b6-b6dc-826b2087bc93",
   "metadata": {},
   "outputs": [],
   "source": [
    "def check_integer(x):  # Notice colon and indentation.\n",
    "    if ...:\n",
    "        ...  # Notice double indentation.\n",
    "\n",
    "while True:\n",
    "    x = int(input(\"Please enter an integer: \"))\n",
    "    check_integer(x)"
   ]
  },
  {
   "cell_type": "markdown",
   "id": "15bae736-c8df-4292-bba0-876b86cd46b3",
   "metadata": {},
   "source": [
    "## Exceptions"
   ]
  },
  {
   "cell_type": "code",
   "execution_count": null,
   "id": "496f2028-feaa-4a15-8f1b-a3703151136b",
   "metadata": {},
   "outputs": [],
   "source": [
    "def check_integer(x):\n",
    "    try:  # Notice the colon and indentation.\n",
    "        ...\n",
    "    except ValueError:  # Never write blanket except, always specify an exception type!\n",
    "        ...\n",
    "\n",
    "while True:\n",
    "    x = input(\"Please enter an integer: \")\n",
    "    check_integer(x)"
   ]
  },
  {
   "cell_type": "markdown",
   "id": "8d037566-e4c7-4942-8074-b1f3ff7174a9",
   "metadata": {},
   "source": [
    "## Error types"
   ]
  },
  {
   "cell_type": "code",
   "execution_count": null,
   "id": "3fd0f89a-0eef-47d0-8dcf-69a5628ab5b8",
   "metadata": {},
   "outputs": [],
   "source": [
    "4 + miguel * 3\n",
    "\n",
    "\"3.4\" * 2\n",
    "\n",
    "int(\"Hello world\")\n",
    "\n",
    "print \"yes\""
   ]
  },
  {
   "cell_type": "markdown",
   "id": "4a9e3719-bd98-4c8f-bb08-4f2824bb026b",
   "metadata": {},
   "source": [
    "## Recursion"
   ]
  },
  {
   "cell_type": "code",
   "execution_count": null,
   "id": "3e8dce96-bcb0-421e-84bc-0605a5c41e57",
   "metadata": {},
   "outputs": [],
   "source": [
    "import random\n",
    "import timeit\n",
    "\n",
    "NUM_RUNS = int(1e4)\n",
    "\n",
    "def imperative_search(sorted_list, needle):\n",
    "    # TODO: complete this.\n",
    "\n",
    "\n",
    "def recursive_search(sorted_list, needle):\n",
    "    # TODO: complete this.\n",
    "\n",
    "\n",
    "def benchmark(fn, l, needle):\n",
    "    return fn(l, l[i])\n",
    "\t\t\n",
    "durations = []\n",
    "# Functions are first-class objects, we can iterate over them!\n",
    "for fn in [imperative_search, recursive_search_wrapper]:\n",
    "    # TODO: complete this.\n",
    "\n",
    "print(durations, durations[0]/durations[1])"
   ]
  },
  {
   "cell_type": "markdown",
   "id": "ae799ed3-3fbf-452e-ae16-4629708c72ad",
   "metadata": {},
   "source": [
    "## Pass by value and pass by reference"
   ]
  },
  {
   "cell_type": "code",
   "execution_count": null,
   "id": "0e4750b2-b6e0-45b4-940d-60b59325577f",
   "metadata": {},
   "outputs": [],
   "source": [
    "def some_function(l):\n",
    "    l.append(4) # This modifies the existing object.\n",
    "\n",
    "a = [1, 3]\n",
    "print(a) # What do you expect?\n",
    "some_function(a)\n",
    "print(a) # What do you expect?"
   ]
  },
  {
   "cell_type": "markdown",
   "id": "af7ec9c5-a84a-4f72-bd23-d32db112c83d",
   "metadata": {},
   "source": [
    "### again, with a tuple"
   ]
  },
  {
   "cell_type": "code",
   "execution_count": null,
   "id": "6923ea54-004b-42b9-9e53-ba46dfeda133",
   "metadata": {},
   "outputs": [],
   "source": [
    "def some_function(t):\n",
    "    t += 4, # Adding a comma at the end makes it a tuple.\n",
    "    return t\n",
    "\n",
    "a = 1, 3\n",
    "print(a) # What do you expect?\n",
    "some_function(a)\n",
    "print(a) # What do you expect?"
   ]
  },
  {
   "cell_type": "markdown",
   "id": "374148a2-c690-494d-a87a-4072e42b11a7",
   "metadata": {},
   "source": [
    "### reassigning"
   ]
  },
  {
   "cell_type": "code",
   "execution_count": null,
   "id": "bcd1d12b-0932-4ff2-86c4-bbfb7bb8f086",
   "metadata": {},
   "outputs": [],
   "source": [
    "def other_function(d):\n",
    "    #d = {}\n",
    "    d[\"uni3\"] = 4\n",
    "\n",
    "d = {\"uni1\": 1, \"uni2\": 3}\n",
    "print(d)\n",
    "\n",
    "other_function(d)\n",
    "print(d) # What's the output? What if we include \"l = {}\" in other_function?"
   ]
  },
  {
   "cell_type": "markdown",
   "id": "770c44d9-6e5c-468a-9795-62543a4f0616",
   "metadata": {},
   "source": [
    "## Reading and writing to disk"
   ]
  },
  {
   "cell_type": "code",
   "execution_count": null,
   "id": "0a73e551-0077-44d5-b310-c2277ca73fa4",
   "metadata": {},
   "outputs": [],
   "source": [
    "# Open a file for reading\n",
    "with open(\"/path/to/file.txt\", \"r\") as f:\n",
    "    for line in f:\n",
    "        print(line)\n",
    "    # Alternatives: f.read(), f.readline(), f.readlines()\n",
    "\n",
    "with open(\"/path/to/file\", \"w+\") as f:\n",
    "    f.write(\"\\n\".join([\"one\", \"two\", \"three\"]))"
   ]
  },
  {
   "cell_type": "markdown",
   "id": "131b7f5a-cb0b-4d88-a1bd-5293fb37c1c7",
   "metadata": {},
   "source": [
    "## Debugging"
   ]
  },
  {
   "cell_type": "code",
   "execution_count": 4,
   "id": "cfdf8c79-fb2f-45ce-b937-b0df5a256c4c",
   "metadata": {},
   "outputs": [
    {
     "name": "stdout",
     "output_type": "stream",
     "text": [
      "The customer should not be paid interest on day 20 and month 9\n",
      "The customer should not be paid interest on day 2 and month 1\n"
     ]
    }
   ],
   "source": [
    "import datetime\n",
    "\n",
    "def pay_interest(balance, rate, day, month):\n",
    "\n",
    "    if 2 == day & 1 == month:\n",
    "        interest = balance * rate\n",
    "        print(\"On day %s and month %s, the customer should be paid this interest: %3.1f\" % (day, month, interest))\n",
    "    else:\n",
    "        print(\"The customer should not be paid interest on day %s and month %s\" % (day, month))\n",
    "\n",
    "\n",
    "today = datetime.datetime.today()\n",
    "pay_interest(1000, 0.04, today.day, today.month)\n",
    "\n",
    "pay_interest(1000, 0.04, 2, 1)"
   ]
  }
 ],
 "metadata": {
  "kernelspec": {
   "display_name": "Python 3 (ipykernel)",
   "language": "python",
   "name": "python3"
  },
  "language_info": {
   "codemirror_mode": {
    "name": "ipython",
    "version": 3
   },
   "file_extension": ".py",
   "mimetype": "text/x-python",
   "name": "python",
   "nbconvert_exporter": "python",
   "pygments_lexer": "ipython3",
   "version": "3.12.5"
  }
 },
 "nbformat": 4,
 "nbformat_minor": 5
}
