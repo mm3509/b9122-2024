{
  "cells": [
    {
      "cell_type": "markdown",
      "id": "814d956e-9a41-4ecf-a730-291084dd3420",
      "metadata": {
        "id": "814d956e-9a41-4ecf-a730-291084dd3420"
      },
      "source": [
        "# Catch-up"
      ]
    },
    {
      "cell_type": "markdown",
      "id": "ff6579c4-1e3c-46b6-a33b-7fb99c8ffb77",
      "metadata": {
        "id": "ff6579c4-1e3c-46b6-a33b-7fb99c8ffb77"
      },
      "source": [
        "## Dictionaries"
      ]
    },
    {
      "cell_type": "code",
      "execution_count": null,
      "id": "60315ea4-d09a-4b9e-bbc8-22e3ede0b670",
      "metadata": {
        "id": "60315ea4-d09a-4b9e-bbc8-22e3ede0b670"
      },
      "outputs": [],
      "source": [
        "attendance = {\"uni1\": 0, \"uni2\": 0, \"uni3\": 0}\n",
        "attendance[\"uni1\"]\n",
        "\n",
        "print(attendance)\n",
        "\n",
        "len(attendance)           # Same len() as before?\n",
        "list(attendance.keys())\n",
        "\n",
        "attendance[\"uni2\"] += 1   # What's +=?\n",
        "print(attendance[\"uni2\"])\n",
        "\n",
        "attendance.get(\"uni2\")    # What's the difference?\n",
        "\n",
        "attendance[\"uni4\"] = 0    # What does this do?\n",
        "\n",
        "attendance[1234] = 0      # Does this work?\n",
        "\n",
        "all_unis = [\"uni%d\" % d for d in range(105)]  # What's []? What's %d?\n",
        "print(dict.fromkeys(all_unis, 0))  # What does this do?"
      ]
    },
    {
      "cell_type": "markdown",
      "id": "5139aae6-986a-4bb4-a688-5777cc81a46b",
      "metadata": {
        "id": "5139aae6-986a-4bb4-a688-5777cc81a46b"
      },
      "source": [
        "• Lists assign items to positions\n",
        "\n",
        "• Dictionary assign items to more mnemonic keys\n",
        "\n",
        "  * Dictionaries data often carries more meaning to human readers\n",
        "\n",
        "• Usage depends on the task and data type!\n",
        "\n",
        "• In practice:\n",
        "\n",
        "  * Lists are more efficient when the data access by position makes sense: example?\n",
        "\n",
        "  * Dictionaries are better suited for data with labeled components: example?"
      ]
    },
    {
      "cell_type": "markdown",
      "id": "0d35c8a9-6ba1-4a9b-a8d1-38cf5566afa9",
      "metadata": {
        "id": "0d35c8a9-6ba1-4a9b-a8d1-38cf5566afa9"
      },
      "source": [
        "# Python\n",
        "\n",
        "## Program control"
      ]
    },
    {
      "cell_type": "code",
      "execution_count": null,
      "id": "3d80b271-b2c4-4d79-8c60-3fc5e27ce016",
      "metadata": {
        "id": "3d80b271-b2c4-4d79-8c60-3fc5e27ce016"
      },
      "outputs": [],
      "source": [
        "student = {\"first name\": \"Miguel\", \"last name\": \"Morin\", \"uni\": \"mm3509\", \"zip code\": 10027}\n",
        "\n",
        "# Print details with a for loop.\n",
        "for detail in student:\n",
        "    print(detail, student[detail])"
      ]
    },
    {
      "cell_type": "markdown",
      "id": "483cf5cc-2462-4e47-91c2-f3889442a366",
      "metadata": {
        "id": "483cf5cc-2462-4e47-91c2-f3889442a366"
      },
      "source": [
        "## Loops"
      ]
    },
    {
      "cell_type": "markdown",
      "source": [
        "Assume that a customer has taken a loan of $1,000 for 10 years and will pay only at the end. You have to compute the total amount due at the end of each year with a \"while\" loop and a \"for\" loop (even though the \"while\" loop seems a bit unnatural). Each loop should print 10 lines with the total amount due at the end of each year, which includes principal and interest."
      ],
      "metadata": {
        "id": "5K-7s7E-72Ku"
      },
      "id": "5K-7s7E-72Ku"
    },
    {
      "cell_type": "code",
      "execution_count": null,
      "id": "51335ebd-cc08-4eb6-b644-51919fc01d89",
      "metadata": {
        "id": "51335ebd-cc08-4eb6-b644-51919fc01d89",
        "outputId": "ab746630-3a2a-442c-d7d8-9b91b4339e0d"
      },
      "outputs": [
        {
          "name": "stdout",
          "output_type": "stream",
          "text": [
            "45.0\n",
            "90.0\n",
            "135.0\n",
            "180.0\n",
            "225.0\n",
            "270.0\n",
            "315.0\n",
            "360.0\n",
            "405.0\n",
            "450.0\n"
          ]
        }
      ],
      "source": [
        "principal = 1000\n",
        "rate = 4.5\n",
        "total = 0\n",
        "\n",
        "# With while loop.\n",
        "year = 0\n",
        "while year <= 10:  # Notice the colon.\n",
        "    # TODO: complete the inner part of this loop, and notice the indentation.\n",
        "    pass\n",
        "\n",
        "# With for loop.\n",
        "total = 0\n",
        "for _ in range(1, 11):  # Notice the colon. What's _?\n",
        "    # TODO: complete the inner part of this loop, and notice the indentation.\n",
        "    pass"
      ]
    },
    {
      "cell_type": "markdown",
      "id": "780280fe-1796-4843-b6e6-cfd83c22a2b7",
      "metadata": {
        "id": "780280fe-1796-4843-b6e6-cfd83c22a2b7"
      },
      "source": [
        "### Exiting a loop"
      ]
    },
    {
      "cell_type": "code",
      "execution_count": null,
      "id": "11ac0300-3e92-4b26-9962-6de0b51b1be6",
      "metadata": {
        "id": "11ac0300-3e92-4b26-9962-6de0b51b1be6"
      },
      "outputs": [],
      "source": [
        "# Compute cumulative interest repayments.\n",
        "principal = 1000\n",
        "rate = 4.5\n",
        "total = 0\n",
        "\n",
        "# With while loop.\n",
        "year = 0\n",
        "while True:\n",
        "    year += 1\n",
        "    if ...:  # Add this condition, with keyword \"break\".\n",
        "        # Notice the nested indentation. When should we exit the while loop?"
      ]
    },
    {
      "cell_type": "markdown",
      "id": "31851f99-c63f-4e8d-90e3-aa3e1d506a70",
      "metadata": {
        "id": "31851f99-c63f-4e8d-90e3-aa3e1d506a70"
      },
      "source": [
        "## Conditionals: if, elif, else"
      ]
    },
    {
      "cell_type": "code",
      "execution_count": null,
      "id": "e4388cf1-7adc-4235-8d7b-f12bb3e6ae08",
      "metadata": {
        "id": "e4388cf1-7adc-4235-8d7b-f12bb3e6ae08"
      },
      "outputs": [],
      "source": [
        "x = int(input(\"Please enter an integer: \"))\n",
        "\n",
        "# TODO: complete this to print when the integer is positive, negative, or zero.\n",
        "if ...:  # Notice the colon.\n",
        "    ...  # Note the indentation.\n",
        "elif ...:  # \"elif\" equivalent to \"else if\"\n",
        "    ...\n",
        "else:\n",
        "    ...."
      ]
    },
    {
      "cell_type": "markdown",
      "id": "5752defa-96d5-41ca-8c12-ec39f51e5117",
      "metadata": {
        "id": "5752defa-96d5-41ca-8c12-ec39f51e5117"
      },
      "source": [
        "## Functions"
      ]
    },
    {
      "cell_type": "code",
      "execution_count": null,
      "id": "d70587c1-45b3-42b6-b6dc-826b2087bc93",
      "metadata": {
        "id": "d70587c1-45b3-42b6-b6dc-826b2087bc93",
        "outputId": "335cd9e3-a0b9-4d16-f098-44084f55e6ce"
      },
      "outputs": [
        {
          "name": "stdin",
          "output_type": "stream",
          "text": [
            "Please enter an integer:  string\n"
          ]
        },
        {
          "ename": "ValueError",
          "evalue": "invalid literal for int() with base 10: 'string'",
          "output_type": "error",
          "traceback": [
            "\u001b[0;31m---------------------------------------------------------------------------\u001b[0m",
            "\u001b[0;31mValueError\u001b[0m                                Traceback (most recent call last)",
            "Cell \u001b[0;32mIn[4], line 7\u001b[0m\n\u001b[1;32m      4\u001b[0m         \u001b[38;5;28;01mpass\u001b[39;00m  \u001b[38;5;66;03m# Notice double indentation.\u001b[39;00m\n\u001b[1;32m      6\u001b[0m \u001b[38;5;28;01mwhile\u001b[39;00m \u001b[38;5;28;01mTrue\u001b[39;00m:\n\u001b[0;32m----> 7\u001b[0m     x \u001b[38;5;241m=\u001b[39m \u001b[38;5;28;43mint\u001b[39;49m\u001b[43m(\u001b[49m\u001b[38;5;28;43minput\u001b[39;49m\u001b[43m(\u001b[49m\u001b[38;5;124;43m\"\u001b[39;49m\u001b[38;5;124;43mPlease enter an integer: \u001b[39;49m\u001b[38;5;124;43m\"\u001b[39;49m\u001b[43m)\u001b[49m\u001b[43m)\u001b[49m\n\u001b[1;32m      8\u001b[0m     check_integer(x)\n",
            "\u001b[0;31mValueError\u001b[0m: invalid literal for int() with base 10: 'string'"
          ]
        }
      ],
      "source": [
        "def check_integer(x):  # Notice colon and indentation.\n",
        "    # TODO: complete this function with the same logic as above.\n",
        "    if True:\n",
        "        pass  # Notice double indentation.\n",
        "\n",
        "while True:\n",
        "    x = int(input(\"Please enter an integer: \"))\n",
        "    check_integer(x)"
      ]
    },
    {
      "cell_type": "markdown",
      "id": "15bae736-c8df-4292-bba0-876b86cd46b3",
      "metadata": {
        "id": "15bae736-c8df-4292-bba0-876b86cd46b3"
      },
      "source": [
        "## Exceptions"
      ]
    },
    {
      "cell_type": "code",
      "execution_count": null,
      "id": "496f2028-feaa-4a15-8f1b-a3703151136b",
      "metadata": {
        "id": "496f2028-feaa-4a15-8f1b-a3703151136b",
        "outputId": "95429195-952d-491a-c221-add4f5972fd8"
      },
      "outputs": [
        {
          "name": "stdin",
          "output_type": "stream",
          "text": [
            "Please enter an integer:  5\n"
          ]
        },
        {
          "name": "stdout",
          "output_type": "stream",
          "text": [
            "Number 5\n"
          ]
        }
      ],
      "source": [
        "def check_integer(x):\n",
        "    try:  # Notice the colon and indentation.\n",
        "        y = int(x)\n",
        "    except (ValueError, TypeError):  # Always specify an exception type, never write a catch-all except!\n",
        "        print(\"Something went wrong\")\n",
        "        return\n",
        "\n",
        "    print(\"Number %d\" % y)\n",
        "\n",
        "x = input(\"Please enter an integer: \")\n",
        "check_integer(x)"
      ]
    },
    {
      "cell_type": "markdown",
      "id": "8d037566-e4c7-4942-8074-b1f3ff7174a9",
      "metadata": {
        "id": "8d037566-e4c7-4942-8074-b1f3ff7174a9"
      },
      "source": [
        "## Error types"
      ]
    },
    {
      "cell_type": "code",
      "execution_count": null,
      "id": "3fd0f89a-0eef-47d0-8dcf-69a5628ab5b8",
      "metadata": {
        "id": "3fd0f89a-0eef-47d0-8dcf-69a5628ab5b8",
        "outputId": "b85e79e6-48c6-4518-ca2d-72370560ac1a"
      },
      "outputs": [
        {
          "ename": "SyntaxError",
          "evalue": "Missing parentheses in call to 'print'. Did you mean print(...)? (387726164.py, line 9)",
          "output_type": "error",
          "traceback": [
            "\u001b[0;36m  Cell \u001b[0;32mIn[8], line 9\u001b[0;36m\u001b[0m\n\u001b[0;31m    print \"yes\"\u001b[0m\n\u001b[0m    ^\u001b[0m\n\u001b[0;31mSyntaxError\u001b[0m\u001b[0;31m:\u001b[0m Missing parentheses in call to 'print'. Did you mean print(...)?\n"
          ]
        }
      ],
      "source": [
        "# TODO: Run each of these in turn to see the error types.\n",
        "\n",
        "#4 + miguel * 3\n",
        "\n",
        "#\"3.4\" / 2\n",
        "\n",
        "#int(\"Hello world\")\n",
        "\n",
        "print \"yes\""
      ]
    },
    {
      "cell_type": "markdown",
      "id": "770c44d9-6e5c-468a-9795-62543a4f0616",
      "metadata": {
        "id": "770c44d9-6e5c-468a-9795-62543a4f0616"
      },
      "source": [
        "## Reading and writing to disk"
      ]
    },
    {
      "cell_type": "code",
      "execution_count": null,
      "id": "0a73e551-0077-44d5-b310-c2277ca73fa4",
      "metadata": {
        "id": "0a73e551-0077-44d5-b310-c2277ca73fa4"
      },
      "outputs": [],
      "source": [
        "# Open a file for reading\n",
        "with open(\"/path/to/file.txt\", \"r\") as f:\n",
        "    for line in f:\n",
        "        print(line)\n",
        "    # Alternatives: f.read(), f.readline(), f.readlines()\n",
        "\n",
        "with open(\"/path/to/file\", \"w+\") as f:\n",
        "    f.write(\"\\n\".join([\"one\", \"two\", \"three\"]))"
      ]
    },
    {
      "cell_type": "markdown",
      "id": "ae799ed3-3fbf-452e-ae16-4629708c72ad",
      "metadata": {
        "id": "ae799ed3-3fbf-452e-ae16-4629708c72ad"
      },
      "source": [
        "## Pass by value and pass by reference"
      ]
    },
    {
      "cell_type": "code",
      "execution_count": null,
      "id": "0e4750b2-b6e0-45b4-940d-60b59325577f",
      "metadata": {
        "id": "0e4750b2-b6e0-45b4-940d-60b59325577f"
      },
      "outputs": [],
      "source": [
        "def some_function(l):\n",
        "    l.append(4) # This modifies the existing object.\n",
        "\n",
        "a = [1, 3]\n",
        "print(a) # What do you expect?\n",
        "some_function(a)\n",
        "print(a) # What do you expect?"
      ]
    },
    {
      "cell_type": "markdown",
      "id": "af7ec9c5-a84a-4f72-bd23-d32db112c83d",
      "metadata": {
        "id": "af7ec9c5-a84a-4f72-bd23-d32db112c83d"
      },
      "source": [
        "### again, with a tuple"
      ]
    },
    {
      "cell_type": "code",
      "execution_count": null,
      "id": "6923ea54-004b-42b9-9e53-ba46dfeda133",
      "metadata": {
        "id": "6923ea54-004b-42b9-9e53-ba46dfeda133"
      },
      "outputs": [],
      "source": [
        "def some_function(t):\n",
        "    t += 4, # Adding a comma at the end makes it a tuple.\n",
        "    return t\n",
        "\n",
        "a = 1, 3\n",
        "print(a) # What do you expect?\n",
        "some_function(a)\n",
        "print(a) # What do you expect?"
      ]
    },
    {
      "cell_type": "markdown",
      "id": "374148a2-c690-494d-a87a-4072e42b11a7",
      "metadata": {
        "id": "374148a2-c690-494d-a87a-4072e42b11a7"
      },
      "source": [
        "### reassigning"
      ]
    },
    {
      "cell_type": "code",
      "execution_count": null,
      "id": "bcd1d12b-0932-4ff2-86c4-bbfb7bb8f086",
      "metadata": {
        "id": "bcd1d12b-0932-4ff2-86c4-bbfb7bb8f086"
      },
      "outputs": [],
      "source": [
        "def other_function(d):\n",
        "    #d = {}\n",
        "    d[\"uni3\"] = 4\n",
        "\n",
        "d = {\"uni1\": 1, \"uni2\": 3}\n",
        "print(d)\n",
        "\n",
        "other_function(d)\n",
        "print(d) # What's the output? What if we include \"l = {}\" in other_function?"
      ]
    }
  ],
  "metadata": {
    "kernelspec": {
      "display_name": "Python 3 (ipykernel)",
      "language": "python",
      "name": "python3"
    },
    "language_info": {
      "codemirror_mode": {
        "name": "ipython",
        "version": 3
      },
      "file_extension": ".py",
      "mimetype": "text/x-python",
      "name": "python",
      "nbconvert_exporter": "python",
      "pygments_lexer": "ipython3",
      "version": "3.12.7"
    },
    "colab": {
      "provenance": []
    }
  },
  "nbformat": 4,
  "nbformat_minor": 5
}