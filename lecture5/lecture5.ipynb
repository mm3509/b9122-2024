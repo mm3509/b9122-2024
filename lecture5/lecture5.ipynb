{
 "cells": [
  {
   "cell_type": "markdown",
   "id": "814d956e-9a41-4ecf-a730-291084dd3420",
   "metadata": {},
   "source": [
    "# Catch-up"
   ]
  },
  {
   "cell_type": "markdown",
   "id": "ff6579c4-1e3c-46b6-a33b-7fb99c8ffb77",
   "metadata": {},
   "source": [
    "## Dictionaries"
   ]
  },
  {
   "cell_type": "code",
   "execution_count": null,
   "id": "60315ea4-d09a-4b9e-bbc8-22e3ede0b670",
   "metadata": {},
   "outputs": [],
   "source": [
    "attendance = {\"uni1\": 0, \"uni2\": 0, \"uni3\": 0}\n",
    "attendance[\"uni1\"]\n",
    "\n",
    "print(attendance)\n",
    "\n",
    "len(attendance)           # Same len() as before?\n",
    "list(attendance.keys())\n",
    "\n",
    "attendance[\"uni2\"] += 1   # What's +=?\n",
    "print(attendance[\"uni2\"])\n",
    "\n",
    "attendance.get(\"uni2\")    # What's the difference?\n",
    "\n",
    "attendance[\"uni4\"] = 0    # What does this do?\n",
    "\n",
    "attendance[1234] = 0      # Does this work?\n",
    "\n",
    "all_unis = [\"uni%d\" % d for d in range(105)]  # What's []? What's %d?\n",
    "print(dict.fromkeys(all_unis, 0))  # What does this do?"
   ]
  },
  {
   "cell_type": "markdown",
   "id": "5139aae6-986a-4bb4-a688-5777cc81a46b",
   "metadata": {},
   "source": [
    "• Lists assign items to positions\n",
    "\n",
    "• Dictionary assign items to more mnemonic keys\n",
    "\n",
    "  * Dictionaries data often carries more meaning to human readers\n",
    "\n",
    "• Usage depends on the task and data type!\n",
    "\n",
    "• In practice:\n",
    "\n",
    "  * Lists are more efficient when the data access by position makes sense: example?\n",
    "\n",
    "  * Dictionaries are better suited for data with labeled components: example?"
   ]
  },
  {
   "cell_type": "markdown",
   "id": "0d35c8a9-6ba1-4a9b-a8d1-38cf5566afa9",
   "metadata": {},
   "source": [
    "# Python\n",
    "\n",
    "## Program control"
   ]
  },
  {
   "cell_type": "code",
   "execution_count": null,
   "id": "3d80b271-b2c4-4d79-8c60-3fc5e27ce016",
   "metadata": {},
   "outputs": [],
   "source": [
    "student = {\"first name\": \"Miguel\", \"last name\": \"Morin\", \"uni\": \"mm3509\", \"zip code\": 10027}\n",
    "\n",
    "# Print details with a for loop.\n",
    "for detail in student:\n",
    "    print(detail, student[detail])"
   ]
  },
  {
   "cell_type": "markdown",
   "id": "483cf5cc-2462-4e47-91c2-f3889442a366",
   "metadata": {},
   "source": [
    "## Loops"
   ]
  },
  {
   "cell_type": "code",
   "execution_count": null,
   "id": "51335ebd-cc08-4eb6-b644-51919fc01d89",
   "metadata": {},
   "outputs": [],
   "source": [
    "# Compute cumulative interest repayments.\n",
    "principal = 1000\n",
    "rate = 4.5\n",
    "total = 0\n",
    "\n",
    "\n",
    "# With while loop.\n",
    "year = 0\n",
    "while year <= 10:  # Notice the colon.\n",
    "    # TODO: complete the inner part of this loop, and notice the indentation.\n",
    "    \n",
    "\n",
    "\n",
    "# With for loop.\n",
    "for _ in range(1, 11):  # Notice the colon. What's _?\n",
    "    # TODO: complete the inner part of this loop, and notice the indentation."
   ]
  },
  {
   "cell_type": "markdown",
   "id": "780280fe-1796-4843-b6e6-cfd83c22a2b7",
   "metadata": {},
   "source": [
    "### Exiting a loop"
   ]
  },
  {
   "cell_type": "code",
   "execution_count": null,
   "id": "11ac0300-3e92-4b26-9962-6de0b51b1be6",
   "metadata": {},
   "outputs": [],
   "source": [
    "# Compute cumulative interest repayments.\n",
    "principal = 1000\n",
    "rate = 4.5\n",
    "total = 0\n",
    "\n",
    "# With while loop.\n",
    "year = 0\n",
    "while True:\n",
    "    year += 1\n",
    "    if ...:  # Add this condition, with keyword \"break\".\n",
    "        # Notice the nested indentation. When should we exit the while loop?"
   ]
  },
  {
   "cell_type": "markdown",
   "id": "31851f99-c63f-4e8d-90e3-aa3e1d506a70",
   "metadata": {},
   "source": [
    "## Conditionals: if, elif, else"
   ]
  },
  {
   "cell_type": "code",
   "execution_count": null,
   "id": "e4388cf1-7adc-4235-8d7b-f12bb3e6ae08",
   "metadata": {},
   "outputs": [],
   "source": [
    "x = int(input(\"Please enter an integer: \"))\n",
    "\n",
    "# TODO: complete this to print when the integer is positive, negative, or zero.\n",
    "if ...:  # Notice the colon.\n",
    "    ...  # Note the indentation.\n",
    "elif ...:  # \"elif\" equivalent to \"else if\"\n",
    "    ...\n",
    "else:\n",
    "    ...."
   ]
  },
  {
   "cell_type": "markdown",
   "id": "5752defa-96d5-41ca-8c12-ec39f51e5117",
   "metadata": {},
   "source": [
    "## Functions"
   ]
  },
  {
   "cell_type": "code",
   "execution_count": null,
   "id": "d70587c1-45b3-42b6-b6dc-826b2087bc93",
   "metadata": {},
   "outputs": [],
   "source": [
    "def check_integer(x):  # Notice colon and indentation.\n",
    "    # TODO: complete this function with the same logic as above.\n",
    "    if ...:\n",
    "        ...  # Notice double indentation.\n",
    "\n",
    "while True:\n",
    "    x = int(input(\"Please enter an integer: \"))\n",
    "    check_integer(x)"
   ]
  },
  {
   "cell_type": "markdown",
   "id": "15bae736-c8df-4292-bba0-876b86cd46b3",
   "metadata": {},
   "source": [
    "## Exceptions"
   ]
  },
  {
   "cell_type": "code",
   "execution_count": null,
   "id": "496f2028-feaa-4a15-8f1b-a3703151136b",
   "metadata": {},
   "outputs": [],
   "source": [
    "def check_integer(x):\n",
    "    try:  # Notice the colon and indentation.\n",
    "        ...\n",
    "    except ValueError:  # Always specify an exception type, never write a catch-all except!\n",
    "        ...\n",
    "\n",
    "while True:\n",
    "    x = input(\"Please enter an integer: \")\n",
    "    check_integer(x)"
   ]
  },
  {
   "cell_type": "markdown",
   "id": "8d037566-e4c7-4942-8074-b1f3ff7174a9",
   "metadata": {},
   "source": [
    "## Error types"
   ]
  },
  {
   "cell_type": "code",
   "execution_count": null,
   "id": "3fd0f89a-0eef-47d0-8dcf-69a5628ab5b8",
   "metadata": {},
   "outputs": [],
   "source": [
    "# TODO: Run each of these in turn to see the error types.\n",
    "\n",
    "4 + miguel * 3\n",
    "\n",
    "\"3.4\" * 2\n",
    "\n",
    "int(\"Hello world\")\n",
    "\n",
    "print \"yes\""
   ]
  },
  {
   "cell_type": "markdown",
   "id": "770c44d9-6e5c-468a-9795-62543a4f0616",
   "metadata": {},
   "source": [
    "## Reading and writing to disk"
   ]
  },
  {
   "cell_type": "code",
   "execution_count": null,
   "id": "0a73e551-0077-44d5-b310-c2277ca73fa4",
   "metadata": {},
   "outputs": [],
   "source": [
    "# Open a file for reading\n",
    "with open(\"/path/to/file.txt\", \"r\") as f:\n",
    "    for line in f:\n",
    "        print(line)\n",
    "    # Alternatives: f.read(), f.readline(), f.readlines()\n",
    "\n",
    "with open(\"/path/to/file\", \"w+\") as f:\n",
    "    f.write(\"\\n\".join([\"one\", \"two\", \"three\"]))"
   ]
  },
  {
   "cell_type": "markdown",
   "id": "ae799ed3-3fbf-452e-ae16-4629708c72ad",
   "metadata": {},
   "source": [
    "## Pass by value and pass by reference"
   ]
  },
  {
   "cell_type": "code",
   "execution_count": null,
   "id": "0e4750b2-b6e0-45b4-940d-60b59325577f",
   "metadata": {},
   "outputs": [],
   "source": [
    "def some_function(l):\n",
    "    l.append(4) # This modifies the existing object.\n",
    "\n",
    "a = [1, 3]\n",
    "print(a) # What do you expect?\n",
    "some_function(a)\n",
    "print(a) # What do you expect?"
   ]
  },
  {
   "cell_type": "markdown",
   "id": "af7ec9c5-a84a-4f72-bd23-d32db112c83d",
   "metadata": {},
   "source": [
    "### again, with a tuple"
   ]
  },
  {
   "cell_type": "code",
   "execution_count": null,
   "id": "6923ea54-004b-42b9-9e53-ba46dfeda133",
   "metadata": {},
   "outputs": [],
   "source": [
    "def some_function(t):\n",
    "    t += 4, # Adding a comma at the end makes it a tuple.\n",
    "    return t\n",
    "\n",
    "a = 1, 3\n",
    "print(a) # What do you expect?\n",
    "some_function(a)\n",
    "print(a) # What do you expect?"
   ]
  },
  {
   "cell_type": "markdown",
   "id": "374148a2-c690-494d-a87a-4072e42b11a7",
   "metadata": {},
   "source": [
    "### reassigning"
   ]
  },
  {
   "cell_type": "code",
   "execution_count": null,
   "id": "bcd1d12b-0932-4ff2-86c4-bbfb7bb8f086",
   "metadata": {},
   "outputs": [],
   "source": [
    "def other_function(d):\n",
    "    #d = {}\n",
    "    d[\"uni3\"] = 4\n",
    "\n",
    "d = {\"uni1\": 1, \"uni2\": 3}\n",
    "print(d)\n",
    "\n",
    "other_function(d)\n",
    "print(d) # What's the output? What if we include \"l = {}\" in other_function?"
   ]
  }
 ],
 "metadata": {
  "kernelspec": {
   "display_name": "Python 3 (ipykernel)",
   "language": "python",
   "name": "python3"
  },
  "language_info": {
   "codemirror_mode": {
    "name": "ipython",
    "version": 3
   },
   "file_extension": ".py",
   "mimetype": "text/x-python",
   "name": "python",
   "nbconvert_exporter": "python",
   "pygments_lexer": "ipython3",
   "version": "3.12.7"
  }
 },
 "nbformat": 4,
 "nbformat_minor": 5
}
