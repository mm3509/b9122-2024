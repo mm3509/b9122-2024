{
  "nbformat": 4,
  "nbformat_minor": 0,
  "metadata": {
    "colab": {
      "provenance": []
    },
    "kernelspec": {
      "name": "python3",
      "display_name": "Python 3"
    },
    "language_info": {
      "name": "python"
    }
  },
  "cells": [
    {
      "cell_type": "markdown",
      "source": [
        "# Lecture 7\n",
        "\n",
        "## Structure of a Python file\n",
        "\n",
        "All your Python files should look like this (minus the optional parts):"
      ],
      "metadata": {
        "id": "0oL0pE3MgbcQ"
      }
    },
    {
      "cell_type": "code",
      "source": [
        "# Imports at the top\n",
        "import sklearn\n",
        "\n",
        "\n",
        "# Global variables next, uppercase\n",
        "NEIGHBORS_KNN = 2\n",
        "\n",
        "\n",
        "# Functions come next.\n",
        "def square(num):\n",
        "    \"\"\"\n",
        "    This is a doc-string. It's the triple-quoted string right after a function\n",
        "    definition. It contains doc-tests. For now, you don't to write anything here\n",
        "    other than doc-tests.\n",
        "\n",
        "    These are doc-tests, starting with triple angled brackets and a space.\n",
        "    The line after the triple-quoted bracket is the expected result.\n",
        "    Corner cases should use the syntax below for the \"traceback\" of the error.\n",
        "    >>> square(2)\n",
        "    4\n",
        "    >>> square(\"2\")\n",
        "    Traceback (most recent call last):\n",
        "    ...\n",
        "    ValueError: argument must be a number\n",
        "    \"\"\"\n",
        "\n",
        "    if not isinstance(width, (int, float)):\n",
        "        raise ValueError(\"argument must be a number\")\n",
        "\n",
        "    return num ** 2\n",
        "\n",
        "\n",
        "# Classes come next, if any.\n",
        "class MyClass(object):\n",
        "    pass\n",
        "\n",
        "\n",
        "# A main function comes next, if any.\n",
        "def main():\n",
        "    pass\n",
        "\n",
        "\n",
        "# Finally, if you want to run code when the file is run but not when it's imported,\n",
        "# use the \"dunder\" variable `__name__`, which is then equal to \"__main__\":\n",
        "if __name__ == \"__main__\":\n",
        "    main()"
      ],
      "metadata": {
        "id": "5HuMWI4WyBzj"
      },
      "execution_count": null,
      "outputs": []
    },
    {
      "cell_type": "markdown",
      "source": [
        "## New style standard: lines under 80 characters\n",
        "\n",
        "Function and variable names are often descriptive and long.\n",
        "\n",
        "All these examples are equivalent, so use them to get under 80 characters:"
      ],
      "metadata": {
        "id": "JxpMlg9azHti"
      }
    },
    {
      "cell_type": "code",
      "source": [
        "a = some_very_long_function_name(some_very_long_parameter_name, another_very_long_parameter_name)\n",
        "\n",
        "a = some_very_long_function_name(some_very_long_parameter_name,\n",
        "                                 another_very_long_parameter_name)\n",
        "\n",
        "a = some_very_long_function_name(\n",
        "    some_very_long_parameter_name,\n",
        "    another_very_long_parameter_name)\n",
        "\n"
      ],
      "metadata": {
        "id": "pus3_vhqzb-6"
      },
      "execution_count": null,
      "outputs": []
    },
    {
      "cell_type": "markdown",
      "source": [
        "# TODO: find the bug in this code\n",
        "\n",
        "A leap year is a year that is divisible by 4 and not by 100, unless also by 400\n",
        "\n"
      ],
      "metadata": {
        "id": "LW6dquEt07ku"
      }
    },
    {
      "cell_type": "code",
      "source": [
        "def is_leap(year):\n",
        "    return (year % 4) and not ((year % 100) and not (year % 400))\n"
      ],
      "metadata": {
        "id": "ZHXZXOpx2MR0"
      },
      "execution_count": null,
      "outputs": []
    },
    {
      "cell_type": "markdown",
      "source": [
        "# A buggy function from the morning midterm (exercise 3)\n",
        "\n",
        "Here, we take a string and return a list of lines containing the same contents, but where each line has 80 characters or less. This is called \"refilling\". Some common sense rules are:\n",
        "\n",
        "- only split a word across two list elements if it's over 80 characters long. Otherwise, split it at a the last space in the first 80 characters\n",
        "- do not return a space at the start of an element, because it looks ugly.\n",
        "\n",
        "You should write a recursive \"helper\" function that does this work, and a non-recursive \"wrapper\" function that handles the edge cases and calls the helper/recursive function. Gradescope will ONLY call the wrapper function.\n",
        "\n",
        "In order to write short doc-tests, the functions also take an argument `max_chars`, set at 80 by default. This way, you do not need to write 80 characters in the doc-tests to check the functionality.\n",
        "\n",
        "Try to find the bug in this student submission, which splits a line of 80 characters when it should not:"
      ],
      "metadata": {
        "id": "-pBRXTE52e9q"
      }
    },
    {
      "cell_type": "code",
      "source": [
        "SEPARATOR = \" \"\n",
        "\n",
        "def refill_recursive_student(s, max_chars):\n",
        "    # Note: this function should have no doc-tests.\n",
        "    str_list = s.split(SEPARATOR)\n",
        "    if '' in str_list:\n",
        "        str_list.remove('')\n",
        "    long_list = []\n",
        "    temp_list = []\n",
        "    count = 0\n",
        "    for word in str_list:\n",
        "        length = len(word) + 1\n",
        "        if count <= max_chars - length:\n",
        "            temp_list.append(word)\n",
        "            count += length\n",
        "        else:\n",
        "            line = SEPARATOR.join(temp_list)\n",
        "            long_list.append(line)\n",
        "            temp_list = []\n",
        "            count = length\n",
        "            temp_list.append(word)\n",
        "    line = SEPARATOR.join(temp_list)\n",
        "    long_list.append(line)\n",
        "    return long_list\n",
        "\n",
        "result = refill_recursive_student(\"scrambled shares. The earsplitting policeman repeats. The fertile faucet sleeps.\", 80)\n",
        "print(result)\n",
        "print(len(result[0] + SEPARATOR + result[1]))"
      ],
      "metadata": {
        "id": "2XjWKzqs2mk4",
        "colab": {
          "base_uri": "https://localhost:8080/"
        },
        "outputId": "e7ac9314-3f00-45f9-db78-98ea2b917882"
      },
      "execution_count": null,
      "outputs": [
        {
          "output_type": "stream",
          "name": "stdout",
          "text": [
            "['scrambled shares. The earsplitting policeman repeats. The fertile faucet', 'sleeps.']\n",
            "80\n"
          ]
        }
      ]
    },
    {
      "cell_type": "markdown",
      "source": [
        "## Speed\n",
        "\n",
        "### Avoid loops\n",
        "\n",
        "Loops can be slow in Python. Python is optimized so that built-in functions and operations run a lot faster than loops.\n",
        "\n",
        "For example, consider this example ([source](https://medium.com/@tententgc/vectorization-vs-loops-the-secret-to-massive-python-performance-gains-af8a4ac17234)), which computes the sum of integers up to 1.5 million:\n"
      ],
      "metadata": {
        "id": "tbQdIQoP3Va4"
      }
    },
    {
      "cell_type": "code",
      "source": [
        "import time\n",
        "\n",
        "\n",
        "N = int(1.5e6)\n",
        "\n",
        "\n",
        "start = time.time()\n",
        "\n",
        "total = 0\n",
        "for item in range(N):\n",
        "    total += item\n",
        "\n",
        "end = time.time()\n",
        "\n",
        "print(round(end - start, 3), \"seconds\")\n",
        "# 0.208-0.529 seconds\n"
      ],
      "metadata": {
        "id": "umiQ2I0Y3YgN",
        "colab": {
          "base_uri": "https://localhost:8080/"
        },
        "outputId": "ddc5d53b-217f-4e21-a309-895721994ccf"
      },
      "execution_count": null,
      "outputs": [
        {
          "output_type": "stream",
          "name": "stdout",
          "text": [
            "0.377 seconds\n"
          ]
        }
      ]
    },
    {
      "cell_type": "markdown",
      "source": [
        "If instead we use the built-in function `sum()`, the code becomes 4-5 times faster:"
      ],
      "metadata": {
        "id": "uSJ3cRtL3aUF"
      }
    },
    {
      "cell_type": "code",
      "source": [
        "import time\n",
        "\n",
        "\n",
        "N = int(1.5e6)\n",
        "\n",
        "\n",
        "start = time.time()\n",
        "total = sum(range(N))\n",
        "end = time.time()\n",
        "\n",
        "print(round(end - start, 3), \"seconds\")\n",
        "# 0.046-0.063 seconds\n"
      ],
      "metadata": {
        "id": "JuXMPOEd3KGA",
        "colab": {
          "base_uri": "https://localhost:8080/"
        },
        "outputId": "14eb8cd8-b7b6-4aa2-8277-8ce1588fa53b"
      },
      "execution_count": null,
      "outputs": [
        {
          "output_type": "stream",
          "name": "stdout",
          "text": [
            "0.042 seconds\n"
          ]
        }
      ]
    },
    {
      "cell_type": "markdown",
      "source": [
        "NumPy is optimized further because it compiles down to C, and code doing the same logic is 26 times faster than a loop:\n"
      ],
      "metadata": {
        "id": "X15LHFob3d1_"
      }
    },
    {
      "cell_type": "code",
      "source": [
        "import time\n",
        "import numpy as np\n",
        "\n",
        "\n",
        "N = int(1.5e6)\n",
        "\n",
        "\n",
        "start = time.time()\n",
        "total = np.sum(np.arange(N))\n",
        "end = time.time()\n",
        "\n",
        "print(round(end - start, 3), \"seconds\")\n",
        "# 0.008-0.012 seconds\n"
      ],
      "metadata": {
        "id": "41nJ_Asw3fwg",
        "colab": {
          "base_uri": "https://localhost:8080/"
        },
        "outputId": "cffab349-74da-4a81-f687-03802f7bb6c6"
      },
      "execution_count": null,
      "outputs": [
        {
          "output_type": "stream",
          "name": "stdout",
          "text": [
            "0.016 seconds\n"
          ]
        }
      ]
    },
    {
      "cell_type": "markdown",
      "source": [
        "### Don't check arguments inside a recursive function\n",
        "\n",
        "If using recursion, don't check arguments and defensive programming in the recursive function. Instead, write a wrapper function whose only purpose is to check arguments once, and then call a recursive function that does not check arguments and runs fast."
      ],
      "metadata": {
        "id": "pIeFI1fo3h0J"
      }
    },
    {
      "cell_type": "markdown",
      "source": [
        "Here is an example from the afternoon midterm (exercise 17):\n",
        "\n",
        "> The first function calculates the sum of all elements in a list of integers using recursion. The second function is a \"wrapper\" around this first function. It should have doc-tests, handle edges cases, and then call the first function.\n",
        "\n",
        "In a recursion with a list of size `N` if we check for the type of the argument, and of the first element inside the recursion, it's slow.\n",
        "\n",
        "We can use a wrapper function to check it once, then call the recursive function. Then, the code runs 2 times faster:"
      ],
      "metadata": {
        "id": "QsT08nwS5PTi"
      }
    },
    {
      "cell_type": "code",
      "source": [
        "import time\n",
        "\n",
        "def calculate_sum_recursive_slow(a):\n",
        "\n",
        "    if not isinstance(a, list):\n",
        "        raise ValueError(\"argument must be a list\")\n",
        "\n",
        "    if 0 == len(a):\n",
        "        return 0\n",
        "\n",
        "    if not isinstance(a[0], (int, float)):\n",
        "        raise ValueError(\"the list must have numbers only\")\n",
        "\n",
        "    return a[0] + calculate_sum_recursive(a[1:])\n",
        "\n",
        "\n",
        "def calculate_sum_recursive(a):\n",
        "\n",
        "    if 0 == len(a):\n",
        "        return 0\n",
        "\n",
        "    return a[0] + calculate_sum_recursive(a[1:])\n",
        "\n",
        "\n",
        "def calculate_sum(a):\n",
        "\n",
        "    if not isinstance(a, list):\n",
        "        raise ValueError(\"argument must be a list\")\n",
        "\n",
        "    for i in a:\n",
        "        if not isinstance(a[0], (int, float)):\n",
        "            raise ValueError(\"the list must have numbers only\")\n",
        "\n",
        "    return calculate_sum_recursive(a)\n",
        "\n",
        "\n",
        "N = int(9e2)\n",
        "a = list(range(N))\n",
        "start = time.time()\n",
        "calculate_sum_recursive_slow(a)\n",
        "print(time.time() - start)\n",
        "\n",
        "\n",
        "start = time.time()\n",
        "calculate_sum(a)\n",
        "print(time.time() - start)"
      ],
      "metadata": {
        "id": "UCwbyfud4-WA",
        "colab": {
          "base_uri": "https://localhost:8080/"
        },
        "outputId": "bf4df1cf-2b0f-4a33-bd23-adfa14e4416b"
      },
      "execution_count": null,
      "outputs": [
        {
          "output_type": "stream",
          "name": "stdout",
          "text": [
            "0.010812044143676758\n",
            "0.0038046836853027344\n"
          ]
        }
      ]
    }
  ]
}