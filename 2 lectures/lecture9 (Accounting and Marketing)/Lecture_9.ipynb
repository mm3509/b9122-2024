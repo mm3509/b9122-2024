{
  "nbformat": 4,
  "nbformat_minor": 0,
  "metadata": {
    "colab": {
      "provenance": []
    },
    "kernelspec": {
      "name": "python3",
      "display_name": "Python 3"
    },
    "language_info": {
      "name": "python"
    }
  },
  "cells": [
    {
      "cell_type": "markdown",
      "source": [
        "# Lecture 9: pandas, merge, linear regression\n",
        "\n",
        "IF you're running this on Google Colab, and only then, should you run this cell:"
      ],
      "metadata": {
        "id": "c9SkovTpjHlC"
      }
    },
    {
      "cell_type": "code",
      "source": [
        "# !! Run this on Google Colab only.\n",
        "from google.colab import drive\n",
        "drive.mount('/content/drive')\n",
        "DATA_FILEPATH = \"/content/drive/My Drive/risk_free_rate.ft\""
      ],
      "metadata": {
        "id": "UXqhFFeplzst"
      },
      "execution_count": null,
      "outputs": []
    },
    {
      "cell_type": "markdown",
      "source": [
        "Download data from Yahoo Finance:"
      ],
      "metadata": {
        "id": "rPsGk8pZl1Y6"
      }
    },
    {
      "cell_type": "code",
      "execution_count": null,
      "metadata": {
        "id": "njp2aC_mjGNE"
      },
      "outputs": [],
      "source": [
        "# Use this version of Yahoo Finance, because later versions\n",
        "# changed syntax to multiple indices.\n",
        "!pip install yfinance==0.2.44\n",
        "!pip install fredapi\n",
        "import os\n",
        "import pathlib\n",
        "\n",
        "import numpy as np\n",
        "import pandas as pd\n",
        "import fredapi\n",
        "import yfinance\n",
        "import matplotlib.pyplot as plt\n",
        "\n",
        "RISK_FREE = \"risk_free\"\n",
        "MARKET_RATE = \"market_rate\"\n",
        "FED_FUNDS = \"DFF\"\n",
        "SP500 = \"^SPX\"\n",
        "\n",
        "START_DATE = \"1986-01-02\"\n",
        "TODAY = \"2024-11-07\"\n",
        "\n",
        "def download_yfinance(ticker):\n",
        "\n",
        "    # Download financial data from Yahoo Finance. No need for API key.\n",
        "    data = yfinance.download(ticker, start=START_DATE, end=TODAY)[[\"Close\"]]\n",
        "\n",
        "    # Use this redundant syntax to avoid a warning from Pandas.\n",
        "    data = data.rename(columns={\"Close\": ticker})\n",
        "\n",
        "    return data"
      ]
    },
    {
      "cell_type": "markdown",
      "source": [
        "Import risk-free rate data, saved in \"feather\" format (or use an API key to download from the Federal Reserve Economic Database):"
      ],
      "metadata": {
        "id": "yA-WRUu8lR8q"
      }
    },
    {
      "cell_type": "code",
      "source": [
        "def get_risk_free_and_market_rates():\n",
        "\n",
        "    if os.path.exists(DATA_FILEPATH):\n",
        "        return pd.read_feather(DATA_FILEPATH)\n",
        "\n",
        "    with open(\"api_key.txt\") as f:\n",
        "        api_key = f.read().strip()\n",
        "\n",
        "    fred = fredapi.Fred(api_key)\n",
        "    risk_free = fred.get_series(FED_FUNDS)\n",
        "    risk_free = np.exp(np.log(1 + risk_free.div(100)) / 250) - 1\n",
        "    risk_free.name = RISK_FREE\n",
        "\n",
        "    market = download_yfinance(SP500)\n",
        "    market[SP500] = market[SP500].pct_change()\n",
        "    market = market.rename(columns={SP500: MARKET_RATE})\n",
        "\n",
        "    merged = pd.merge(market,\n",
        "                      risk_free,\n",
        "                      how=\"inner\",\n",
        "                      left_index=True,\n",
        "                      right_index=True)\n",
        "\n",
        "    merged.to_feather(DATA_FILEPATH)\n",
        "\n",
        "    return merged\n",
        "\n",
        "get_risk_free_and_market_rates()"
      ],
      "metadata": {
        "id": "L97nu42xllVZ"
      },
      "execution_count": null,
      "outputs": []
    },
    {
      "cell_type": "markdown",
      "source": [
        "Download a stock and compute its percentage change."
      ],
      "metadata": {
        "id": "93S0sVs3m4re"
      }
    },
    {
      "cell_type": "code",
      "source": [
        "def download_and_compute_growth(ticker):\n",
        "    stock = download_yfinance(ticker)\n",
        "    growth = stock.pct_change()\n",
        "    print(growth.tail())\n",
        "    return growth"
      ],
      "metadata": {
        "id": "_Sxu751XjTNn"
      },
      "execution_count": null,
      "outputs": []
    },
    {
      "cell_type": "markdown",
      "source": [
        "Download Microsoft, Apple, merge them, and drop missing values (e.g. if a company went public before the other)."
      ],
      "metadata": {
        "id": "G6T_9SgkosLR"
      }
    },
    {
      "cell_type": "code",
      "source": [
        "apple = download_and_compute_growth(\"AAPL\")\n",
        "microsoft = download_and_compute_growth(\"MSFT\")\n",
        "\n",
        "# Index of the series = date.\n",
        "merged = pd.merge(apple,\n",
        "                  microsoft,\n",
        "                  how=\"inner\",\n",
        "                  left_index=True,\n",
        "                  right_index=True)\n",
        "\n",
        "plt.hist(microsoft)\n",
        "plt.hist(apple)\n",
        "merged.dropna(inplace=True)\n",
        "merged.describe()"
      ],
      "metadata": {
        "id": "tqXn2zUeowJx"
      },
      "execution_count": null,
      "outputs": []
    },
    {
      "cell_type": "markdown",
      "source": [
        "Run a regression of one on the other."
      ],
      "metadata": {
        "id": "9ezxSyW5s9dd"
      }
    },
    {
      "cell_type": "code",
      "source": [
        "import numpy as np\n",
        "from sklearn.linear_model import LinearRegression\n",
        "\n",
        "def regression(merged):\n",
        "  x = merged[\"AAPL\"].values.reshape(-1, 1)\n",
        "  y = merged[\"MSFT\"].values.reshape(-1, 1)\n",
        "  reg = LinearRegression().fit(x, y)\n",
        "\n",
        "  # Hack to show the two regressions in the same range.\n",
        "  x_axis = np.arange(-0.6, 0.4, 0.1).reshape(-1, 1)\n",
        "  y_predicted = reg.predict(x_axis)\n",
        "\n",
        "  plt.scatter(x, y)\n",
        "  plt.plot(x_axis, y_predicted, c=\"r\")\n",
        "  print(\"Coefficient: \", reg.coef_[0, 0])\n",
        "\n",
        "regression(merged)"
      ],
      "metadata": {
        "id": "_0N4O-Xfs_34"
      },
      "execution_count": null,
      "outputs": []
    },
    {
      "cell_type": "markdown",
      "source": [
        "Let's drop the observation at the left to see the effect of outliers on linear regression: the regression line is slightly steeper when we drop it. The coefficient is about 3% higher, due to a single observation!"
      ],
      "metadata": {
        "id": "_5yk_Clk1u9i"
      }
    },
    {
      "cell_type": "code",
      "source": [
        "from sklearn.linear_model import LinearRegression\n",
        "\n",
        "clean = merged.loc[merged[\"AAPL\"] >= -0.4]\n",
        "\n",
        "regression(clean)"
      ],
      "metadata": {
        "id": "v42r0GPzuKpZ"
      },
      "execution_count": null,
      "outputs": []
    },
    {
      "cell_type": "markdown",
      "source": [
        "# CAPM\n",
        "\n",
        "Time-allowing: run a Capital Asset-Pricing Model regression with two stocks of your choice."
      ],
      "metadata": {
        "id": "ScE5HXD_1gHl"
      }
    }
  ]
}