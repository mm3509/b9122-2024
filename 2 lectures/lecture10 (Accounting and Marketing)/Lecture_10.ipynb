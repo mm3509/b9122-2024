{
  "nbformat": 4,
  "nbformat_minor": 0,
  "metadata": {
    "colab": {
      "provenance": []
    },
    "kernelspec": {
      "name": "python3",
      "display_name": "Python 3"
    },
    "language_info": {
      "name": "python"
    }
  },
  "cells": [
    {
      "cell_type": "markdown",
      "source": [
        "# Lecture 10: web scraping with Beautiful Soup\n",
        "\n",
        "IF you're running this on Google Colab, and only then, should you run this cell:"
      ],
      "metadata": {
        "id": "c9SkovTpjHlC"
      }
    },
    {
      "cell_type": "code",
      "source": [
        "# !! Run this on Google Colab only.\n",
        "from google.colab import drive\n",
        "drive.mount('/content/drive')"
      ],
      "metadata": {
        "id": "UXqhFFeplzst"
      },
      "execution_count": null,
      "outputs": []
    },
    {
      "cell_type": "markdown",
      "source": [
        "Install bs4:"
      ],
      "metadata": {
        "id": "rPsGk8pZl1Y6"
      }
    },
    {
      "cell_type": "code",
      "execution_count": null,
      "metadata": {
        "id": "njp2aC_mjGNE"
      },
      "outputs": [],
      "source": [
        "!pip install bs4\n",
        "import bs4"
      ]
    },
    {
      "cell_type": "code",
      "source": [
        "HTML_FILEPATH = \"drive/MyDrive/product_page.html\"\n",
        "import os\n",
        "\n",
        "with open(HTML_FILEPATH) as f:\n",
        "  html = f.read(-1)\n",
        "\n",
        "print(html)\n",
        "\n",
        "soup = bs4.BeautifulSoup(html, \"html.parser\")"
      ],
      "metadata": {
        "id": "h_0vrvbRLgig"
      },
      "execution_count": null,
      "outputs": []
    },
    {
      "cell_type": "code",
      "source": [
        "soup.find(\"div\")"
      ],
      "metadata": {
        "id": "lV_GahKwLzyH"
      },
      "execution_count": null,
      "outputs": []
    },
    {
      "cell_type": "code",
      "source": [
        "soup.find_all(\"div\")"
      ],
      "metadata": {
        "id": "L97nu42xllVZ"
      },
      "execution_count": null,
      "outputs": []
    },
    {
      "cell_type": "code",
      "source": [
        "soup.find_all(class_=\"item\")"
      ],
      "metadata": {
        "id": "jGILIL1pL9Ci"
      },
      "execution_count": null,
      "outputs": []
    },
    {
      "cell_type": "code",
      "source": [
        "soup.find(class_=\"item\").get_text()"
      ],
      "metadata": {
        "id": "aaRhOThlMIlg"
      },
      "execution_count": null,
      "outputs": []
    },
    {
      "cell_type": "code",
      "source": [
        "item = soup.find(class_=\"item\")\n",
        "price = item.find(class_=\"price\")\n",
        "price.get_text()"
      ],
      "metadata": {
        "id": "tTzIB79hMPwZ"
      },
      "execution_count": null,
      "outputs": []
    },
    {
      "cell_type": "code",
      "source": [],
      "metadata": {
        "id": "6oeR8UosMdov"
      },
      "execution_count": null,
      "outputs": []
    }
  ]
}