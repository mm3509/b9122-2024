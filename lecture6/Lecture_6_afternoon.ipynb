{
  "cells": [
    {
      "cell_type": "markdown",
      "id": "814d956e-9a41-4ecf-a730-291084dd3420",
      "metadata": {
        "id": "814d956e-9a41-4ecf-a730-291084dd3420"
      },
      "source": [
        "# Lecture 6"
      ]
    },
    {
      "cell_type": "markdown",
      "id": "0d35c8a9-6ba1-4a9b-a8d1-38cf5566afa9",
      "metadata": {
        "id": "0d35c8a9-6ba1-4a9b-a8d1-38cf5566afa9"
      },
      "source": [
        "# Python catch-up"
      ]
    },
    {
      "cell_type": "markdown",
      "source": [],
      "metadata": {
        "id": "KCGK0ajW3b2M"
      },
      "id": "KCGK0ajW3b2M"
    },
    {
      "cell_type": "markdown",
      "id": "770c44d9-6e5c-468a-9795-62543a4f0616",
      "metadata": {
        "id": "770c44d9-6e5c-468a-9795-62543a4f0616"
      },
      "source": [
        "## Reading and writing to disk\n",
        "\n",
        "This is the syntax to read and write to disk. The variable `f` becomes an \"alias\", or a nickname, for the file handle, or connection to the file on the disk:"
      ]
    },
    {
      "cell_type": "code",
      "execution_count": null,
      "id": "0a73e551-0077-44d5-b310-c2277ca73fa4",
      "metadata": {
        "id": "0a73e551-0077-44d5-b310-c2277ca73fa4"
      },
      "outputs": [],
      "source": [
        "# Open a file for reading\n",
        "with open(\"/path/to/file.txt\", \"r\") as f:\n",
        "    for line in f:\n",
        "        print(line)\n",
        "#    # Alternatives: f.read(), f.readline(), f.readlines()\n",
        "\n",
        "with open(\"/path/to/file\", \"w+\") as f:\n",
        "    f.write(\"\\n\".join([\"one\", \"two\", \"three\"]))"
      ]
    },
    {
      "cell_type": "markdown",
      "id": "ae799ed3-3fbf-452e-ae16-4629708c72ad",
      "metadata": {
        "id": "ae799ed3-3fbf-452e-ae16-4629708c72ad"
      },
      "source": [
        "## Pass by value and pass by reference"
      ]
    },
    {
      "cell_type": "code",
      "execution_count": null,
      "id": "0e4750b2-b6e0-45b4-940d-60b59325577f",
      "metadata": {
        "id": "0e4750b2-b6e0-45b4-940d-60b59325577f"
      },
      "outputs": [],
      "source": [
        "def some_function(a):\n",
        "    a.append(4) # This modifies the existing object.\n",
        "\n",
        "a = [1, 3]\n",
        "print(a) # What do you expect?\n",
        "some_function(a)\n",
        "print(a) # What do you expect?"
      ]
    },
    {
      "cell_type": "markdown",
      "id": "af7ec9c5-a84a-4f72-bd23-d32db112c83d",
      "metadata": {
        "id": "af7ec9c5-a84a-4f72-bd23-d32db112c83d"
      },
      "source": [
        "### again, with a tuple"
      ]
    },
    {
      "cell_type": "code",
      "execution_count": null,
      "id": "6923ea54-004b-42b9-9e53-ba46dfeda133",
      "metadata": {
        "id": "6923ea54-004b-42b9-9e53-ba46dfeda133"
      },
      "outputs": [],
      "source": [
        "def some_function(t):\n",
        "    t = t + (4,) # Adding a comma at the end makes it a tuple.\n",
        "    return t\n",
        "\n",
        "a = 1, 3\n",
        "print(a) # What do you expect?\n",
        "result = some_function(a)\n",
        "print(a) # What do you expect?\n",
        "print(result)"
      ]
    },
    {
      "cell_type": "markdown",
      "id": "374148a2-c690-494d-a87a-4072e42b11a7",
      "metadata": {
        "id": "374148a2-c690-494d-a87a-4072e42b11a7"
      },
      "source": [
        "### reassigning"
      ]
    },
    {
      "cell_type": "code",
      "execution_count": null,
      "id": "bcd1d12b-0932-4ff2-86c4-bbfb7bb8f086",
      "metadata": {
        "id": "bcd1d12b-0932-4ff2-86c4-bbfb7bb8f086"
      },
      "outputs": [],
      "source": [
        "def other_function(d):\n",
        "    d = {}\n",
        "    d[\"uni3\"] = 4\n",
        "\n",
        "d = {\"uni1\": 1, \"uni2\": 3}\n",
        "print(d)\n",
        "\n",
        "d2 = other_function(d)\n",
        "print(d) # What's the output? What if we include \"l = {}\" in other_function?"
      ]
    },
    {
      "cell_type": "markdown",
      "source": [
        "# NumPy\n",
        "\n",
        "NumPy, for \"Numerical Python\", is a package for computations such as linear algebra. The MNIST images in assignment 2 were stored as a matrix of size 28x28, with elements.\n",
        "\n",
        "Most of the time, you won't use NumPy directly, but use algorithms packages like SciKit-Learn that use NumPy. So this is a primer with just the basics.\n",
        "\n",
        "NumPy is often abbreviated as `np` to type faster."
      ],
      "metadata": {
        "id": "AY6zchG_3esz"
      },
      "id": "AY6zchG_3esz"
    },
    {
      "cell_type": "markdown",
      "source": [
        "### Arrays\n",
        "\n",
        "You create an array by calling `np.array()` on a list (for a vector) and a list of lists (for a matrix)."
      ],
      "metadata": {
        "id": "Mc_iqH6L_t0w"
      },
      "id": "Mc_iqH6L_t0w"
    },
    {
      "cell_type": "code",
      "source": [
        "import numpy as np\n",
        "vector = np.array([1, 2, 3, 4])\n",
        "print(\"Vector: \", vector)\n",
        "\n",
        "matrix = np.array([[1, 2], [3, 4]])\n",
        "print(\"Matrix: \", matrix)"
      ],
      "metadata": {
        "id": "wIHc3d7q4gBI"
      },
      "id": "wIHc3d7q4gBI",
      "execution_count": null,
      "outputs": []
    },
    {
      "cell_type": "markdown",
      "source": [
        "Even though they have different dimensions, they are both called \"arrays\".\n",
        "\n",
        "A one-dimensional array, abbreviated as \"1-D array\", is represented by the `print()` function as a row vector.\n",
        "\n",
        "A two-dimensional array, abbreviated as \"2-D array\", is represented by the `print()` function as a matrix, or list of lists.\n",
        "\n",
        "You convert from 1-D arrays to 2-D arrays with `np.reshape()`. This can often go wrong, so please use carefully. The function takes as arguments an array and a tuple with the dimension. NumPy will distribute the elements from the argument array into an array of the new size. If you pass `-1` as a dimension, this will be inferred from the number of elements in the argument array and the other dimensions in the tuple. For now, please only use with `1` or `-1` in the dimensions, to convert between row/column vectors to the equivalent arrays.\n",
        "\n",
        "\n",
        "Reshaping with `(-1, 1)` converts an array to the equivalent of a column vector. Reshaping with `(1, -1)` converts an array to the equivalent of a row vector."
      ],
      "metadata": {
        "id": "NS_4qzHcGXKm"
      },
      "id": "NS_4qzHcGXKm"
    },
    {
      "cell_type": "code",
      "source": [
        "vector_as_2d_array = np.reshape(vector, (1, -1))\n",
        "print(\"Vector has shape\", vector.shape)\n",
        "print(\"Matrix has shape\", vector_as_2d_array.shape)"
      ],
      "metadata": {
        "id": "P_TDVAaSGjSY"
      },
      "id": "P_TDVAaSGjSY",
      "execution_count": null,
      "outputs": []
    },
    {
      "cell_type": "markdown",
      "source": [
        "### Array shape\n",
        "\n",
        "You get the size of an array with the attribute `.shape` (it's a field, not a function, as has no parentheses):"
      ],
      "metadata": {
        "id": "EQFbaZiR5cdc"
      },
      "id": "EQFbaZiR5cdc"
    },
    {
      "cell_type": "code",
      "source": [
        "print(\"Vector has shape: \", vector.shape)\n",
        "print(\"Matrix has shape: \", matrix.shape)"
      ],
      "metadata": {
        "id": "D4VhvpSk5uky"
      },
      "id": "D4VhvpSk5uky",
      "execution_count": null,
      "outputs": []
    },
    {
      "cell_type": "markdown",
      "source": [
        "### Array type\n",
        "\n",
        "All elements in an array have the same type (unlike lists in Python). For example, this code throws an error:"
      ],
      "metadata": {
        "id": "xILtxc776DM3"
      },
      "id": "xILtxc776DM3"
    },
    {
      "cell_type": "code",
      "source": [
        "np.array([1, 2, (3, 4)])"
      ],
      "metadata": {
        "id": "dl4ZUDSF53fw"
      },
      "id": "dl4ZUDSF53fw",
      "execution_count": null,
      "outputs": []
    },
    {
      "cell_type": "markdown",
      "source": [
        "You can check the type of the array by checking the type of an element. Notice that NumPy variables have the number of bits in the type (for example, int64 is an integer of 64 bits):"
      ],
      "metadata": {
        "id": "LLUqB9sI6SLl"
      },
      "id": "LLUqB9sI6SLl"
    },
    {
      "cell_type": "code",
      "source": [
        "print(type(vector[1]))"
      ],
      "metadata": {
        "id": "3AwAFFNz6XeH"
      },
      "id": "3AwAFFNz6XeH",
      "execution_count": null,
      "outputs": []
    },
    {
      "cell_type": "markdown",
      "source": [
        "You can convert between types with the method `.astype()`, for example to convert to floats of size 32:"
      ],
      "metadata": {
        "id": "OOOJ82hQ62OC"
      },
      "id": "OOOJ82hQ62OC"
    },
    {
      "cell_type": "code",
      "source": [
        "vector_float = vector.astype(np.float32)\n",
        "print(type(vector_float[1]))"
      ],
      "metadata": {
        "id": "5H_KcOT56cId"
      },
      "id": "5H_KcOT56cId",
      "execution_count": null,
      "outputs": []
    },
    {
      "cell_type": "markdown",
      "source": [
        "### Initialize new arrays\n",
        "\n",
        "You can initialize an array of a given size full of zeros or ones with `np.zeros()` and `np.ones()`, which take as argument a tuple for the size.\n",
        "\n",
        "By default, these functions create an array with type float, which is why you see a dot at after the integers."
      ],
      "metadata": {
        "id": "3TNczZDz7HSn"
      },
      "id": "3TNczZDz7HSn"
    },
    {
      "cell_type": "code",
      "source": [
        "a = np.zeros((2, 2))\n",
        "print(\"a = \", a)\n",
        "b = np.ones((2, 2))\n",
        "print(\"b = \", b)"
      ],
      "metadata": {
        "id": "0tGZb1T47aTi"
      },
      "id": "0tGZb1T47aTi",
      "execution_count": null,
      "outputs": []
    },
    {
      "cell_type": "markdown",
      "source": [
        "You can create vector by passing a tuple of size 1: `(3,)` (the comma at the end makes this a tuple instead of an integer):"
      ],
      "metadata": {
        "id": "X4GZ6-3R7zHI"
      },
      "id": "X4GZ6-3R7zHI"
    },
    {
      "cell_type": "code",
      "source": [
        "vector = np.ones((3, ))\n",
        "print(vector)\n",
        "print(vector.shape)"
      ],
      "metadata": {
        "id": "ACRlWPoi8BcX"
      },
      "id": "ACRlWPoi8BcX",
      "execution_count": null,
      "outputs": []
    },
    {
      "cell_type": "markdown",
      "source": [
        "You can create a diagonal matrix with `np.diag()`, which takes an array and places it in the diagonal:"
      ],
      "metadata": {
        "id": "FmMEQAd__7rw"
      },
      "id": "FmMEQAd__7rw"
    },
    {
      "cell_type": "code",
      "source": [
        "#a = np.diag(np.array([1, 2, 3]))\n",
        "print(np.eye(3))\n",
        "#print(a)"
      ],
      "metadata": {
        "id": "9vthBWcMAL6U"
      },
      "id": "9vthBWcMAL6U",
      "execution_count": null,
      "outputs": []
    },
    {
      "cell_type": "markdown",
      "source": [
        "### Array stacking\n",
        "\n",
        "We stack arrays horizontally or vertically with `np.hstack()` or `np.vstack()`, which take as arguments a **list** of arrays:"
      ],
      "metadata": {
        "id": "1KxHVWOJEnXo"
      },
      "id": "1KxHVWOJEnXo"
    },
    {
      "cell_type": "code",
      "source": [
        "a = np.ones((3, 1))\n",
        "b = np.zeros((3, 1))\n",
        "c = np.hstack([a, b])\n",
        "print(\"horizontal:\", c, sep=\"\\n\")\n",
        "d = np.vstack([a, b])\n",
        "print(\"vertical:\")\n",
        "print(d)"
      ],
      "metadata": {
        "id": "L6DauKtVE5Dw"
      },
      "id": "L6DauKtVE5Dw",
      "execution_count": null,
      "outputs": []
    },
    {
      "cell_type": "markdown",
      "source": [
        "### Indexing\n",
        "\n",
        "Arrays behave like lists, so you can access their values with the same notation. For example, this creates an upper diagonal matrix:"
      ],
      "metadata": {
        "id": "PuFvOUfYBc_V"
      },
      "id": "PuFvOUfYBc_V"
    },
    {
      "cell_type": "code",
      "source": [
        "a = np.eye(2)\n",
        "a[0, 1] = 1\n",
        "print(\"a\", a, sep=\"\\n\")\n",
        "print(\"The lower left value is:\", a[1, 0])"
      ],
      "metadata": {
        "id": "T5qDk7RTB005"
      },
      "id": "T5qDk7RTB005",
      "execution_count": null,
      "outputs": []
    },
    {
      "cell_type": "markdown",
      "source": [
        "### Basic array operations\n",
        "\n",
        "Operations follow the intuitive math standard. For example, you can add a number to a vector, which adds that number to every element in the vector (the number is \"broadcast\" to the vector):"
      ],
      "metadata": {
        "id": "YTw_JhHZ8JDA"
      },
      "id": "YTw_JhHZ8JDA"
    },
    {
      "cell_type": "code",
      "source": [
        "print(5 + np.ones((3,)))"
      ],
      "metadata": {
        "id": "nqihvlJB8TKn"
      },
      "id": "nqihvlJB8TKn",
      "execution_count": null,
      "outputs": []
    },
    {
      "cell_type": "markdown",
      "source": [
        "Likewise, you can multiply a number with a vector:"
      ],
      "metadata": {
        "id": "oNH6sxd58Z9U"
      },
      "id": "oNH6sxd58Z9U"
    },
    {
      "cell_type": "code",
      "source": [
        "print(5 * np.ones((3,)))"
      ],
      "metadata": {
        "id": "3w-myNEw8gF9"
      },
      "id": "3w-myNEw8gF9",
      "execution_count": null,
      "outputs": []
    },
    {
      "cell_type": "markdown",
      "source": [
        "You can add two vectors:"
      ],
      "metadata": {
        "id": "od322-xh8qDe"
      },
      "id": "od322-xh8qDe"
    },
    {
      "cell_type": "code",
      "source": [
        "print(np.ones((3,)) + 6 * np.ones(3,))"
      ],
      "metadata": {
        "id": "CW3s-GNp8vo1"
      },
      "id": "CW3s-GNp8vo1",
      "execution_count": null,
      "outputs": []
    },
    {
      "cell_type": "markdown",
      "source": [
        "You can add a vector and a matrix of the compatible size. The vector is converted to a matrix (subtype polymorphism, just like `1 + 2.5` converts the integer `1` to a float):"
      ],
      "metadata": {
        "id": "8MMkqn9e9mPr"
      },
      "id": "8MMkqn9e9mPr"
    },
    {
      "cell_type": "code",
      "source": [
        "print(np.ones((3,)) + np.ones((1, 3)))"
      ],
      "metadata": {
        "id": "CFpuTONf916J"
      },
      "id": "CFpuTONf916J",
      "execution_count": null,
      "outputs": []
    },
    {
      "cell_type": "markdown",
      "source": [
        "but if the sizes are not compatible, for example a vector (which is size (1,3)) plus a matrix of size (3,1), you get a matrix of size (3,3):"
      ],
      "metadata": {
        "id": "1CCxLPjR-IyA"
      },
      "id": "1CCxLPjR-IyA"
    },
    {
      "cell_type": "code",
      "source": [
        "a = np.ones((3,))\n",
        "b = np.ones((3, 1))\n",
        "print(a.shape)\n",
        "print(b.shape)\n",
        "print(a)\n",
        "print(b)\n",
        "print(np.ones((3,)) + np.ones((3, 1)))"
      ],
      "metadata": {
        "id": "G2S9dYFo-VMJ"
      },
      "id": "G2S9dYFo-VMJ",
      "execution_count": null,
      "outputs": []
    },
    {
      "cell_type": "markdown",
      "source": [
        "## Matrix operations\n",
        "\n",
        "You can do matrix manipulation, for example `.T` tranposes a matrix:"
      ],
      "metadata": {
        "id": "cZu9ALSG-ZYt"
      },
      "id": "cZu9ALSG-ZYt"
    },
    {
      "cell_type": "code",
      "source": [
        "a = np.zeros((4, 2))\n",
        "print(\"Original: \", a, sep=\"\\n\")\n",
        "print(\"Transpose: \", a.T, sep=\"\\n\")"
      ],
      "metadata": {
        "id": "tlGkdddl-djj"
      },
      "id": "tlGkdddl-djj",
      "execution_count": null,
      "outputs": []
    },
    {
      "cell_type": "markdown",
      "source": [
        "You can multiply matrices with the `np.matmul()`, which takes two arrays of compatible shape:"
      ],
      "metadata": {
        "id": "qbHgF8kC_F5F"
      },
      "id": "qbHgF8kC_F5F"
    },
    {
      "cell_type": "code",
      "source": [
        "a = np.ones((3, 2))\n",
        "np.matmul(a, a.T)"
      ],
      "metadata": {
        "id": "LmbNLi50_HwE"
      },
      "id": "LmbNLi50_HwE",
      "execution_count": null,
      "outputs": []
    },
    {
      "cell_type": "markdown",
      "source": [
        "You can invert a matrix with `np.linalg.inv()`:"
      ],
      "metadata": {
        "id": "sw-krOR0_gwO"
      },
      "id": "sw-krOR0_gwO"
    },
    {
      "cell_type": "code",
      "source": [
        "a = np.diag([1, 2, 3])\n",
        "a[0, 2] = 4\n",
        "print(\"a:\", a, sep=\"\\n\")\n",
        "\n",
        "a_inverse = np.linalg.inv(a)\n",
        "print(\"inverse:\", a_inverse)\n",
        "\n",
        "c = np.matmul(a, a_inverse)\n",
        "print(\"multiplication:\")\n",
        "print(c)"
      ],
      "metadata": {
        "id": "SQEdSTthAya6"
      },
      "id": "SQEdSTthAya6",
      "execution_count": null,
      "outputs": []
    },
    {
      "cell_type": "markdown",
      "source": [
        "### Linear regression\n",
        "\n",
        "A linear regression is simply matrix multiplication:\n",
        "\n",
        "beta = (X' * X) ^{-1} * (X * Y)\n",
        "\n",
        "so we can run a linear regression within NumPy.\n",
        "\n",
        "This next cell starts the random number generator to a certain state, called a \"seed\", so you'll generate the same data as me.\n",
        "\n",
        "It generates random data (using two functions from `np.random`, for the uniform distribution and normal distribution)."
      ],
      "metadata": {
        "id": "F7fjoL0sCTRG"
      },
      "id": "F7fjoL0sCTRG"
    },
    {
      "cell_type": "code",
      "source": [
        "N = 200\n",
        "alpha = 4\n",
        "beta = 2\n",
        "\n",
        "np.random.seed(42)\n",
        "x = np.random.uniform(low=0.5, high=13.3, size=N)\n",
        "error = np.random.normal(loc=0.0, scale=2.0, size=N)\n",
        "y = alpha + beta * x + error\n",
        "print(y.shape)"
      ],
      "metadata": {
        "id": "hgGjAERWC0OR"
      },
      "id": "hgGjAERWC0OR",
      "execution_count": null,
      "outputs": []
    },
    {
      "cell_type": "markdown",
      "source": [
        "To run the regression, we convert `x` to a matrix of the same shape as a column vector:"
      ],
      "metadata": {
        "id": "RkmstZG6EFLU"
      },
      "id": "RkmstZG6EFLU"
    },
    {
      "cell_type": "code",
      "source": [
        "x_as_array = np.reshape(x, (-1, 1))\n",
        "y_as_array = np.reshape(y, (-1, 1))\n",
        "print(x_as_array.shape)"
      ],
      "metadata": {
        "id": "aqv-UFYSETPz"
      },
      "id": "aqv-UFYSETPz",
      "execution_count": null,
      "outputs": []
    },
    {
      "cell_type": "markdown",
      "source": [
        "We confirm it has the right shape. We now stack the constant horizontally:"
      ],
      "metadata": {
        "id": "k4dO2fKjHI84"
      },
      "id": "k4dO2fKjHI84"
    },
    {
      "cell_type": "code",
      "source": [
        "constant = np.ones((N, 1))\n",
        "x_with_constant = np.hstack([constant, x_as_array])\n",
        "print(\"Regressors have shape:\", x_with_constant.shape)"
      ],
      "metadata": {
        "id": "ku1BW3vaHPnY"
      },
      "id": "ku1BW3vaHPnY",
      "execution_count": null,
      "outputs": []
    },
    {
      "cell_type": "markdown",
      "source": [
        "And now we run the formula to find the parameters:"
      ],
      "metadata": {
        "id": "VrrBweBeHWF1"
      },
      "id": "VrrBweBeHWF1"
    },
    {
      "cell_type": "code",
      "source": [
        "xx = np.matmul(x_with_constant.T, x_with_constant)\n",
        "xx_inv = np.linalg.inv(xx)\n",
        "xy = np.matmul(x_with_constant.T, y_as_array)\n",
        "\n",
        "beta_hat = np.matmul(xx_inv, xy)\n",
        "print(\"Your linear regression produced these estimates:\")\n",
        "print(beta_hat)\n",
        "print(\"The original values are:\", alpha, beta)"
      ],
      "metadata": {
        "id": "Hr5-b6RRHZMe"
      },
      "id": "Hr5-b6RRHZMe",
      "execution_count": null,
      "outputs": []
    },
    {
      "cell_type": "markdown",
      "source": [
        "With 200 data points, we got estimates very close to the data!\n",
        "\n",
        "Note: if you multiply matrices and get an error `ValueError: matmul: Input operand 1 has a mismatch ...`, your matrices have incompatible sizes. Check the size of each matrix with `.shape`. The sizes have to follow this rule:\n",
        "\n",
        "```\n",
        "(M , N) * (N , K) => Result dimensions is (M, K)\n",
        "```"
      ],
      "metadata": {
        "id": "fVfjbW2IKaSq"
      },
      "id": "fVfjbW2IKaSq"
    },
    {
      "cell_type": "markdown",
      "source": [
        "# Plotting\n",
        "\n",
        "Now we plot these results. We'll use `matplotlib`, a package for plotting in Python. First, a scatter plot with `scatter()`:"
      ],
      "metadata": {
        "id": "90heoW2OKdMu"
      },
      "id": "90heoW2OKdMu"
    },
    {
      "cell_type": "code",
      "source": [
        "import matplotlib.pyplot as plt\n",
        "plt.scatter(x, y)"
      ],
      "metadata": {
        "id": "Vqhv6NDKKsjZ"
      },
      "id": "Vqhv6NDKKsjZ",
      "execution_count": null,
      "outputs": []
    },
    {
      "cell_type": "markdown",
      "source": [
        "Then, we add the lines on top of the scatter. To do so, we predict the value of y at each value of x with the formula:  `y_predicted = beta_hat * x_with_constant` (when implementing, we have to adapt the formula so the multiplication has compatible dimensions). We plot a line with `plot()` and pass the color red as an argument `c=\"r\"`:"
      ],
      "metadata": {
        "id": "Gm4fEs9QLAUv"
      },
      "id": "Gm4fEs9QLAUv"
    },
    {
      "cell_type": "code",
      "source": [
        "y_predicted = np.matmul(x_with_constant, beta_hat)\n",
        "plt.scatter(x, y)\n",
        "plt.plot(x, y_predicted, c=\"r\")"
      ],
      "metadata": {
        "id": "HptbXOgBLMmR"
      },
      "id": "HptbXOgBLMmR",
      "execution_count": null,
      "outputs": []
    },
    {
      "cell_type": "markdown",
      "source": [
        "# Sci-Kit Learn\n",
        "\n",
        "We did this linear regression from scratch to learn matrix manipulation in NumPy and Matplotlib.\n",
        "\n",
        "In practice, you'll often use the Sci-Kit Learn package, which has linear regression and many algorithms. (Note: if you have to install it, remember that it has two names: you install the package with `scikit-learn` and import the module with `sklearn`; see details [here](https://towardsdatascience.com/scikit-learn-vs-sklearn-6944b9dc1736?gi=cafe4b37d090)).\n",
        "\n",
        "We'll run the same regression in Sci-Kit learn to make sure we have the right results.\n",
        "\n",
        "We import the linear regression module, start a new linear regresssion, update it to fit the data (in-place!), and print the coefficients. Notice that the linear regression already adds a constant:"
      ],
      "metadata": {
        "id": "zRgxbX7w5Zg2"
      },
      "id": "zRgxbX7w5Zg2"
    },
    {
      "cell_type": "code",
      "source": [
        "import sklearn.linear_model\n",
        "reg = sklearn.linear_model.LinearRegression()\n",
        "reg.fit(x_as_array, y_as_array)\n",
        "print(reg.coef_)"
      ],
      "metadata": {
        "id": "Vk409XjlN8Za"
      },
      "id": "Vk409XjlN8Za",
      "execution_count": null,
      "outputs": []
    },
    {
      "cell_type": "markdown",
      "source": [
        "Finally, we compare to the value we found \"by hand\" with NumPy:"
      ],
      "metadata": {
        "id": "QpVmYipPQvWX"
      },
      "id": "QpVmYipPQvWX"
    },
    {
      "cell_type": "code",
      "source": [
        "coeff_from_sklearn = reg.coef_[0, 0]\n",
        "coeff_from_numpy = beta_hat[1, 0]\n",
        "print(coeff_from_sklearn,\n",
        "      coeff_from_numpy,\n",
        "      abs(coeff_from_sklearn - coeff_from_numpy) < 1e-12,\n",
        "      sep=\"\\n\")"
      ],
      "metadata": {
        "id": "IYfuAX5qQ0tN"
      },
      "id": "IYfuAX5qQ0tN",
      "execution_count": null,
      "outputs": []
    },
    {
      "cell_type": "code",
      "source": [],
      "metadata": {
        "id": "H-n0ZqMaRPxU"
      },
      "id": "H-n0ZqMaRPxU",
      "execution_count": null,
      "outputs": []
    }
  ],
  "metadata": {
    "kernelspec": {
      "display_name": "Python 3 (ipykernel)",
      "language": "python",
      "name": "python3"
    },
    "language_info": {
      "codemirror_mode": {
        "name": "ipython",
        "version": 3
      },
      "file_extension": ".py",
      "mimetype": "text/x-python",
      "name": "python",
      "nbconvert_exporter": "python",
      "pygments_lexer": "ipython3",
      "version": "3.12.7"
    },
    "colab": {
      "provenance": []
    }
  },
  "nbformat": 4,
  "nbformat_minor": 5
}